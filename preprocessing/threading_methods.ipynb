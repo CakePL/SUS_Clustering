{
 "cells": [
  {
   "cell_type": "markdown",
   "source": [
    "# Threading Methods\n",
    "Allows parallel optuna run"
   ],
   "metadata": {
    "collapsed": false,
    "pycharm": {
     "name": "#%% md\n"
    }
   }
  },
  {
   "cell_type": "code",
   "execution_count": 120,
   "outputs": [],
   "source": [
    "# import\n",
    "import optuna\n",
    "from datetime import datetime\n",
    "from threading import Thread\n",
    "\n",
    "CPU = 16\n",
    "TIMEOUT=10"
   ],
   "metadata": {
    "collapsed": false,
    "pycharm": {
     "name": "#%%\n"
    }
   }
  },
  {
   "cell_type": "code",
   "execution_count": 121,
   "outputs": [],
   "source": [
    "from time import sleep\n",
    "\n",
    "\n",
    "class Objective(object):\n",
    "    def __init__(self, min_x, max_x):\n",
    "        # Hold this implementation specific arguments as the fields of the class.\n",
    "        self.min_x = min_x\n",
    "        self.max_x = max_x\n",
    "\n",
    "    def __call__(self, trial):\n",
    "        # Calculate an objective value by using the extra arguments.\n",
    "        x = trial.suggest_float(\"x\", self.min_x, self.max_x)\n",
    "        return (x - 2) ** 2"
   ],
   "metadata": {
    "collapsed": false,
    "pycharm": {
     "name": "#%%\n"
    }
   }
  },
  {
   "cell_type": "code",
   "execution_count": 122,
   "metadata": {
    "collapsed": true,
    "pycharm": {
     "name": "#%%\n"
    }
   },
   "outputs": [
    {
     "name": "stderr",
     "output_type": "stream",
     "text": [
      "\u001B[32m[I 2022-05-05 03:55:30,120]\u001B[0m A new study created in RDB with name: ml_clustering2022-05-05_035529\u001B[0m\n"
     ]
    },
    {
     "name": "stdout",
     "output_type": "stream",
     "text": [
      "Created study ml_clustering2022-05-05_035529\n"
     ]
    }
   ],
   "source": [
    "def make_study(name=\"ml_clustering\"):\n",
    "    now = datetime.now()\n",
    "    studyname = name + now.strftime(\"%Y-%m-%d_%H%M%S\")\n",
    "    study = optuna.create_study(study_name=studyname, storage=\"sqlite:///clustering.db\")\n",
    "    print(\"Created study \"+study.study_name)\n",
    "\n",
    "    # fixed_params = {key: val for key, val in [(\"q\", Q), (\"eps\", EPS)] if val is not None}\n",
    "    # study.sampler = optuna.samplers.PartialFixedSampler(fixed_params, study.sampler)\n",
    "    return studyname\n",
    "\n",
    "studyname = make_study()"
   ]
  },
  {
   "cell_type": "code",
   "execution_count": 123,
   "outputs": [],
   "source": [
    "def singlethread_optimize(timeout):\n",
    "    study = optuna.load_study(study_name=studyname, storage=\"sqlite:///clustering.db\")\n",
    "    study.optimize(Objective(-100, 100), timeout=timeout)\n",
    "\n",
    "# singlethread_optimize(TIMEOUT)"
   ],
   "metadata": {
    "collapsed": false,
    "pycharm": {
     "name": "#%%\n"
    }
   }
  },
  {
   "cell_type": "code",
   "execution_count": 124,
   "outputs": [
    {
     "name": "stdout",
     "output_type": "stream",
     "text": [
      "Optimization with 16 threads.\n"
     ]
    },
    {
     "name": "stderr",
     "output_type": "stream",
     "text": [
      "\u001B[32m[I 2022-05-05 03:55:31,786]\u001B[0m Trial 0 finished with value: 3645.5648515369835 and parameters: {'x': -58.37851316103257}. Best is trial 0 with value: 2680.529296104523.\u001B[0m\n",
      "\u001B[32m[I 2022-05-05 03:55:32,934]\u001B[0m Trial 5 finished with value: 2680.529296104523 and parameters: {'x': -49.77382829291768}. Best is trial 5 with value: 2680.529296104523.\u001B[0m\n",
      "\u001B[32m[I 2022-05-05 03:55:32,984]\u001B[0m Trial 4 finished with value: 4591.543181035882 and parameters: {'x': -65.76092665420008}. Best is trial 5 with value: 2680.529296104523.\u001B[0m\n",
      "\u001B[32m[I 2022-05-05 03:55:33,077]\u001B[0m Trial 7 finished with value: 1172.6506550480713 and parameters: {'x': 36.24398713713214}. Best is trial 7 with value: 54.61992594975748.\u001B[0m\n",
      "\u001B[32m[I 2022-05-05 03:55:33,227]\u001B[0m Trial 8 finished with value: 54.61992594975748 and parameters: {'x': 9.390529476956132}. Best is trial 8 with value: 54.61992594975748.\u001B[0m\n",
      "\u001B[32m[I 2022-05-05 03:55:33,248]\u001B[0m Trial 10 finished with value: 5882.653304013511 and parameters: {'x': 78.69845698587105}. Best is trial 8 with value: 54.61992594975748.\u001B[0m\n",
      "\u001B[32m[I 2022-05-05 03:55:33,350]\u001B[0m Trial 11 finished with value: 1257.9388373259499 and parameters: {'x': 37.46743347531577}. Best is trial 8 with value: 54.61992594975748.\u001B[0m\n",
      "\u001B[32m[I 2022-05-05 03:55:33,401]\u001B[0m Trial 9 finished with value: 5430.516706251664 and parameters: {'x': -71.69203963964944}. Best is trial 8 with value: 54.61992594975748.\u001B[0m\n",
      "\u001B[32m[I 2022-05-05 03:55:33,567]\u001B[0m Trial 13 finished with value: 1384.6087060424788 and parameters: {'x': -35.21033063602739}. Best is trial 8 with value: 54.61992594975748.\u001B[0m\n",
      "\u001B[32m[I 2022-05-05 03:55:33,685]\u001B[0m Trial 2 finished with value: 6242.455698302242 and parameters: {'x': 81.00921274321269}. Best is trial 8 with value: 54.61992594975748.\u001B[0m\n",
      "\u001B[32m[I 2022-05-05 03:55:33,821]\u001B[0m Trial 3 finished with value: 4152.147669249102 and parameters: {'x': -62.43716062373561}. Best is trial 8 with value: 0.7697870225315647.\u001B[0m\n",
      "\u001B[32m[I 2022-05-05 03:55:33,895]\u001B[0m Trial 15 finished with value: 80.35957426841713 and parameters: {'x': -6.96435018662352}. Best is trial 8 with value: 0.7697870225315647.\u001B[0m\n",
      "\u001B[32m[I 2022-05-05 03:55:33,990]\u001B[0m Trial 1 finished with value: 4372.314829193535 and parameters: {'x': 68.12348167779382}. Best is trial 8 with value: 0.7697870225315647.\u001B[0m\n",
      "\u001B[32m[I 2022-05-05 03:55:34,090]\u001B[0m Trial 18 finished with value: 0.7697870225315647 and parameters: {'x': 2.8773750751711407}. Best is trial 18 with value: 0.7697870225315647.\u001B[0m\n",
      "\u001B[32m[I 2022-05-05 03:55:34,096]\u001B[0m Trial 16 finished with value: 1332.9791346771844 and parameters: {'x': -34.509986780019304}. Best is trial 18 with value: 0.7697870225315647.\u001B[0m\n",
      "\u001B[32m[I 2022-05-05 03:55:34,240]\u001B[0m Trial 20 finished with value: 18.279886629631424 and parameters: {'x': -2.275498407160436}. Best is trial 18 with value: 0.7697870225315647.\u001B[0m\n",
      "\u001B[32m[I 2022-05-05 03:55:34,352]\u001B[0m Trial 12 finished with value: 8399.04744645222 and parameters: {'x': 93.64631714614734}. Best is trial 18 with value: 0.7697870225315647.\u001B[0m\n",
      "\u001B[32m[I 2022-05-05 03:55:34,360]\u001B[0m Trial 14 finished with value: 703.6434334716279 and parameters: {'x': 28.52627816848093}. Best is trial 18 with value: 0.7697870225315647.\u001B[0m\n",
      "\u001B[32m[I 2022-05-05 03:55:34,478]\u001B[0m Trial 24 finished with value: 4.648685797742744 and parameters: {'x': 4.156081120399403}. Best is trial 18 with value: 0.7697870225315647.\u001B[0m\n",
      "\u001B[32m[I 2022-05-05 03:55:34,520]\u001B[0m Trial 22 finished with value: 124.4907422357018 and parameters: {'x': -9.157541944160542}. Best is trial 18 with value: 0.7697870225315647.\u001B[0m\n",
      "\u001B[32m[I 2022-05-05 03:55:34,571]\u001B[0m Trial 17 finished with value: 5241.399382309223 and parameters: {'x': -70.39750950349897}. Best is trial 18 with value: 0.7697870225315647.\u001B[0m\n",
      "\u001B[32m[I 2022-05-05 03:55:34,729]\u001B[0m Trial 25 finished with value: 149.38178503074832 and parameters: {'x': -10.222184135036926}. Best is trial 18 with value: 0.7697870225315647.\u001B[0m\n",
      "\u001B[32m[I 2022-05-05 03:55:34,840]\u001B[0m Trial 6 finished with value: 9526.954222386401 and parameters: {'x': -95.60611775081725}. Best is trial 18 with value: 0.7697870225315647.\u001B[0m\n",
      "\u001B[32m[I 2022-05-05 03:55:34,922]\u001B[0m Trial 26 finished with value: 772.3481105318896 and parameters: {'x': -25.791151658970335}. Best is trial 18 with value: 0.7697870225315647.\u001B[0m\n",
      "\u001B[32m[I 2022-05-05 03:55:35,029]\u001B[0m Trial 28 finished with value: 53.33375502296558 and parameters: {'x': 9.302996304460628}. Best is trial 18 with value: 0.7697870225315647.\u001B[0m\n",
      "\u001B[32m[I 2022-05-05 03:55:35,132]\u001B[0m Trial 27 finished with value: 9137.83589027757 and parameters: {'x': -93.5920283824837}. Best is trial 18 with value: 0.7697870225315647.\u001B[0m\n",
      "\u001B[32m[I 2022-05-05 03:55:35,134]\u001B[0m Trial 19 finished with value: 4.264520393817658 and parameters: {'x': 4.065071522688175}. Best is trial 18 with value: 0.7697870225315647.\u001B[0m\n",
      "\u001B[32m[I 2022-05-05 03:55:35,276]\u001B[0m Trial 32 finished with value: 271.5824989411314 and parameters: {'x': 18.47976028166464}. Best is trial 18 with value: 0.7697870225315647.\u001B[0m\n",
      "\u001B[32m[I 2022-05-05 03:55:35,287]\u001B[0m Trial 29 finished with value: 65.1772218016075 and parameters: {'x': 10.073241096462281}. Best is trial 18 with value: 0.7697870225315647.\u001B[0m\n",
      "\u001B[32m[I 2022-05-05 03:55:35,414]\u001B[0m Trial 33 finished with value: 383.6676238434959 and parameters: {'x': 21.587435356459913}. Best is trial 18 with value: 0.7697870225315647.\u001B[0m\n",
      "\u001B[32m[I 2022-05-05 03:55:35,478]\u001B[0m Trial 34 finished with value: 398.21337144964355 and parameters: {'x': 21.955284298892952}. Best is trial 18 with value: 0.7697870225315647.\u001B[0m\n",
      "\u001B[32m[I 2022-05-05 03:55:35,538]\u001B[0m Trial 21 finished with value: 61.00156802319183 and parameters: {'x': 9.810350057660145}. Best is trial 18 with value: 0.7697870225315647.\u001B[0m\n",
      "\u001B[32m[I 2022-05-05 03:55:35,622]\u001B[0m Trial 35 finished with value: 1735.5595430967003 and parameters: {'x': 43.66004732470548}. Best is trial 18 with value: 0.7697870225315647.\u001B[0m\n",
      "\u001B[32m[I 2022-05-05 03:55:35,750]\u001B[0m Trial 37 finished with value: 3323.42150718698 and parameters: {'x': 59.64912407996309}. Best is trial 18 with value: 0.7697870225315647.\u001B[0m\n",
      "\u001B[32m[I 2022-05-05 03:55:35,817]\u001B[0m Trial 30 finished with value: 251.43169880746066 and parameters: {'x': 17.856597958183233}. Best is trial 18 with value: 0.7697870225315647.\u001B[0m\n",
      "\u001B[32m[I 2022-05-05 03:55:35,893]\u001B[0m Trial 36 finished with value: 2873.859896685974 and parameters: {'x': 55.60839390138427}. Best is trial 18 with value: 0.7697870225315647.\u001B[0m\n",
      "\u001B[32m[I 2022-05-05 03:55:35,983]\u001B[0m Trial 23 finished with value: 13.268391529006754 and parameters: {'x': 5.642580339403203}. Best is trial 18 with value: 0.7697870225315647.\u001B[0m\n",
      "\u001B[32m[I 2022-05-05 03:55:36,060]\u001B[0m Trial 38 finished with value: 367.48876681385315 and parameters: {'x': -17.169996526182604}. Best is trial 18 with value: 0.7697870225315647.\u001B[0m\n",
      "\u001B[32m[I 2022-05-05 03:55:36,164]\u001B[0m Trial 39 finished with value: 454.51629096305396 and parameters: {'x': -19.319387677957685}. Best is trial 18 with value: 0.7697870225315647.\u001B[0m\n",
      "\u001B[32m[I 2022-05-05 03:55:36,211]\u001B[0m Trial 40 finished with value: 732.3694759584254 and parameters: {'x': -25.06232576772413}. Best is trial 18 with value: 0.7697870225315647.\u001B[0m\n",
      "\u001B[32m[I 2022-05-05 03:55:36,380]\u001B[0m Trial 41 finished with value: 686.4802685786536 and parameters: {'x': -24.200768473055398}. Best is trial 18 with value: 0.7697870225315647.\u001B[0m\n",
      "\u001B[32m[I 2022-05-05 03:55:36,511]\u001B[0m Trial 43 finished with value: 8.966184142902826 and parameters: {'x': -0.9943587198101076}. Best is trial 18 with value: 0.7697870225315647.\u001B[0m\n",
      "\u001B[32m[I 2022-05-05 03:55:36,699]\u001B[0m Trial 45 finished with value: 1986.9797195998044 and parameters: {'x': -42.57555069317489}. Best is trial 18 with value: 0.047587705689486996.\u001B[0m\n",
      "\u001B[32m[I 2022-05-05 03:55:36,737]\u001B[0m Trial 31 finished with value: 99.23215954387156 and parameters: {'x': 11.96153399551854}. Best is trial 18 with value: 0.047587705689486996.\u001B[0m\n",
      "\u001B[32m[I 2022-05-05 03:55:36,782]\u001B[0m Trial 49 finished with value: 4.239825236210491 and parameters: {'x': -0.059083591360606036}. Best is trial 18 with value: 0.047587705689486996.\u001B[0m\n",
      "\u001B[32m[I 2022-05-05 03:55:36,876]\u001B[0m Trial 47 finished with value: 0.047587705689486996 and parameters: {'x': 1.781853934966759}. Best is trial 47 with value: 0.047587705689486996.\u001B[0m\n",
      "\u001B[32m[I 2022-05-05 03:55:36,900]\u001B[0m Trial 52 finished with value: 0.717995686380083 and parameters: {'x': 1.1526537387938252}. Best is trial 47 with value: 0.047587705689486996.\u001B[0m\n",
      "\u001B[32m[I 2022-05-05 03:55:36,973]\u001B[0m Trial 42 finished with value: 2132.7646444128063 and parameters: {'x': -44.18186488669342}. Best is trial 47 with value: 0.047587705689486996.\u001B[0m\n",
      "\u001B[32m[I 2022-05-05 03:55:37,069]\u001B[0m Trial 53 finished with value: 0.37732521244063727 and parameters: {'x': 2.6142680298050984}. Best is trial 47 with value: 0.047587705689486996.\u001B[0m\n",
      "\u001B[32m[I 2022-05-05 03:55:37,127]\u001B[0m Trial 51 finished with value: 1.3464254824852218 and parameters: {'x': 0.83964424313695}. Best is trial 47 with value: 0.047587705689486996.\u001B[0m\n",
      "\u001B[32m[I 2022-05-05 03:55:37,139]\u001B[0m Trial 48 finished with value: 0.9202476098706837 and parameters: {'x': 2.959295371546576}. Best is trial 47 with value: 0.047587705689486996.\u001B[0m\n",
      "\u001B[32m[I 2022-05-05 03:55:37,227]\u001B[0m Trial 50 finished with value: 5.231538684531818 and parameters: {'x': -0.2872557103506854}. Best is trial 47 with value: 0.047587705689486996.\u001B[0m\n",
      "\u001B[32m[I 2022-05-05 03:55:37,382]\u001B[0m Trial 54 finished with value: 1139.3272997239778 and parameters: {'x': 35.753922730906076}. Best is trial 47 with value: 0.047587705689486996.\u001B[0m\n",
      "\u001B[32m[I 2022-05-05 03:55:37,472]\u001B[0m Trial 56 finished with value: 1156.9687225434266 and parameters: {'x': 36.01424293650274}. Best is trial 47 with value: 0.047587705689486996.\u001B[0m\n",
      "\u001B[32m[I 2022-05-05 03:55:37,608]\u001B[0m Trial 44 finished with value: 2327.3075793695107 and parameters: {'x': -46.2421763539904}. Best is trial 47 with value: 0.047587705689486996.\u001B[0m\n",
      "\u001B[32m[I 2022-05-05 03:55:37,624]\u001B[0m Trial 59 finished with value: 229.04754110355879 and parameters: {'x': -13.134316671180063}. Best is trial 47 with value: 0.047587705689486996.\u001B[0m\n",
      "\u001B[32m[I 2022-05-05 03:55:37,792]\u001B[0m Trial 55 finished with value: 864.2887130992924 and parameters: {'x': 31.39878761274506}. Best is trial 47 with value: 0.047587705689486996.\u001B[0m\n",
      "\u001B[32m[I 2022-05-05 03:55:37,821]\u001B[0m Trial 58 finished with value: 190.88977638958582 and parameters: {'x': -11.816286635329545}. Best is trial 47 with value: 0.047587705689486996.\u001B[0m\n",
      "\u001B[32m[I 2022-05-05 03:55:37,869]\u001B[0m Trial 61 finished with value: 243.34352568023283 and parameters: {'x': -13.599471967994072}. Best is trial 47 with value: 0.047587705689486996.\u001B[0m\n",
      "\u001B[32m[I 2022-05-05 03:55:37,942]\u001B[0m Trial 60 finished with value: 277.1585867568939 and parameters: {'x': -14.64808057275354}. Best is trial 47 with value: 0.047587705689486996.\u001B[0m\n",
      "\u001B[32m[I 2022-05-05 03:55:37,948]\u001B[0m Trial 62 finished with value: 139.93807990673798 and parameters: {'x': -9.82954267529975}. Best is trial 47 with value: 0.047587705689486996.\u001B[0m\n",
      "\u001B[32m[I 2022-05-05 03:55:38,120]\u001B[0m Trial 65 finished with value: 638.6295361786615 and parameters: {'x': 27.27112059602149}. Best is trial 47 with value: 0.047587705689486996.\u001B[0m\n",
      "\u001B[32m[I 2022-05-05 03:55:38,122]\u001B[0m Trial 63 finished with value: 1121.1826636772578 and parameters: {'x': -31.484065817598342}. Best is trial 47 with value: 0.047587705689486996.\u001B[0m\n",
      "\u001B[32m[I 2022-05-05 03:55:38,288]\u001B[0m Trial 66 finished with value: 0.3327223040989194 and parameters: {'x': 1.4231791403746572}. Best is trial 47 with value: 0.047587705689486996.\u001B[0m\n",
      "\u001B[32m[I 2022-05-05 03:55:38,335]\u001B[0m Trial 67 finished with value: 22.600902587203993 and parameters: {'x': -2.7540406589767397}. Best is trial 47 with value: 0.047587705689486996.\u001B[0m\n",
      "\u001B[32m[I 2022-05-05 03:55:38,459]\u001B[0m Trial 64 finished with value: 574.1719079881485 and parameters: {'x': 25.961884483240222}. Best is trial 47 with value: 0.047587705689486996.\u001B[0m\n",
      "\u001B[32m[I 2022-05-05 03:55:38,543]\u001B[0m Trial 68 finished with value: 46.7536694233402 and parameters: {'x': -4.837665495133569}. Best is trial 47 with value: 0.047587705689486996.\u001B[0m\n",
      "\u001B[32m[I 2022-05-05 03:55:38,803]\u001B[0m Trial 57 finished with value: 286.9181063927565 and parameters: {'x': -14.938657160257907}. Best is trial 47 with value: 0.047587705689486996.\u001B[0m\n",
      "\u001B[32m[I 2022-05-05 03:55:38,869]\u001B[0m Trial 69 finished with value: 20.57559319649591 and parameters: {'x': -2.536032759636542}. Best is trial 47 with value: 0.047587705689486996.\u001B[0m\n",
      "\u001B[32m[I 2022-05-05 03:55:39,078]\u001B[0m Trial 71 finished with value: 232.8297304500993 and parameters: {'x': 17.258759138609513}. Best is trial 47 with value: 0.047587705689486996.\u001B[0m\n",
      "\u001B[32m[I 2022-05-05 03:55:39,175]\u001B[0m Trial 72 finished with value: 155.0169743985834 and parameters: {'x': 14.450581287577837}. Best is trial 47 with value: 0.047587705689486996.\u001B[0m\n",
      "\u001B[32m[I 2022-05-05 03:55:39,336]\u001B[0m Trial 76 finished with value: 13.393871014813886 and parameters: {'x': 5.6597637922158155}. Best is trial 47 with value: 0.047587705689486996.\u001B[0m\n",
      "\u001B[32m[I 2022-05-05 03:55:39,400]\u001B[0m Trial 46 finished with value: 3.1522364178177638 and parameters: {'x': 0.22454613751363173}. Best is trial 47 with value: 0.047587705689486996.\u001B[0m\n",
      "\u001B[32m[I 2022-05-05 03:55:39,451]\u001B[0m Trial 75 finished with value: 150.8268638959855 and parameters: {'x': 14.28115889873531}. Best is trial 47 with value: 0.047587705689486996.\u001B[0m\n",
      "\u001B[32m[I 2022-05-05 03:55:39,506]\u001B[0m Trial 74 finished with value: 140.8024018563507 and parameters: {'x': 13.866018787122778}. Best is trial 47 with value: 0.047587705689486996.\u001B[0m\n",
      "\u001B[32m[I 2022-05-05 03:55:39,521]\u001B[0m Trial 73 finished with value: 5.860744896982599 and parameters: {'x': 4.420897539546562}. Best is trial 47 with value: 0.047587705689486996.\u001B[0m\n",
      "\u001B[32m[I 2022-05-05 03:55:39,611]\u001B[0m Trial 78 finished with value: 7.087364392984512 and parameters: {'x': 4.662210433640532}. Best is trial 47 with value: 1.7394969805748277e-05.\u001B[0m\n",
      "\u001B[32m[I 2022-05-05 03:55:39,621]\u001B[0m Trial 70 finished with value: 210.31430588383841 and parameters: {'x': 16.502217274742453}. Best is trial 47 with value: 1.7394969805748277e-05.\u001B[0m\n",
      "\u001B[32m[I 2022-05-05 03:55:39,732]\u001B[0m Trial 77 finished with value: 1.7394969805748277e-05 and parameters: {'x': 1.995829272269046}. Best is trial 77 with value: 1.7394969805748277e-05.\u001B[0m\n",
      "\u001B[32m[I 2022-05-05 03:55:39,991]\u001B[0m Trial 79 finished with value: 40.30119838819734 and parameters: {'x': 8.348322486153121}. Best is trial 77 with value: 1.7394969805748277e-05.\u001B[0m\n",
      "\u001B[32m[I 2022-05-05 03:55:40,209]\u001B[0m Trial 84 finished with value: 419.9744166985677 and parameters: {'x': 22.49327735377062}. Best is trial 77 with value: 1.7394969805748277e-05.\u001B[0m\n",
      "\u001B[32m[I 2022-05-05 03:55:40,212]\u001B[0m Trial 81 finished with value: 462.1409057770395 and parameters: {'x': -19.49746277533792}. Best is trial 77 with value: 1.7394969805748277e-05.\u001B[0m\n",
      "\u001B[32m[I 2022-05-05 03:55:40,344]\u001B[0m Trial 85 finished with value: 86.1861085891684 and parameters: {'x': -7.28364737531367}. Best is trial 77 with value: 1.7394969805748277e-05.\u001B[0m\n",
      "\u001B[32m[I 2022-05-05 03:55:40,422]\u001B[0m Trial 83 finished with value: 86.80946674392536 and parameters: {'x': -7.317159800278482}. Best is trial 77 with value: 1.7394969805748277e-05.\u001B[0m\n",
      "\u001B[32m[I 2022-05-05 03:55:40,454]\u001B[0m Trial 91 finished with value: 106.33838964739358 and parameters: {'x': -8.312050700389015}. Best is trial 77 with value: 1.7394969805748277e-05.\u001B[0m\n",
      "\u001B[32m[I 2022-05-05 03:55:40,478]\u001B[0m Trial 90 finished with value: 100.88265565835113 and parameters: {'x': -8.044035825222405}. Best is trial 77 with value: 1.7394969805748277e-05.\u001B[0m\n",
      "\u001B[32m[I 2022-05-05 03:55:40,550]\u001B[0m Trial 89 finished with value: 578.8838548444548 and parameters: {'x': -22.060005296018844}. Best is trial 77 with value: 1.7394969805748277e-05.\u001B[0m\n",
      "\u001B[32m[I 2022-05-05 03:55:40,751]\u001B[0m Trial 93 finished with value: 38.16926880579889 and parameters: {'x': 8.17812826071124}. Best is trial 77 with value: 1.7394969805748277e-05.\u001B[0m\n",
      "\u001B[32m[I 2022-05-05 03:55:40,761]\u001B[0m Trial 92 finished with value: 0.022334283770288926 and parameters: {'x': 2.149446591698469}. Best is trial 77 with value: 1.7394969805748277e-05.\u001B[0m\n",
      "\u001B[32m[I 2022-05-05 03:55:40,780]\u001B[0m Trial 80 finished with value: 69.61105800250851 and parameters: {'x': -6.343324157822738}. Best is trial 77 with value: 1.7394969805748277e-05.\u001B[0m\n",
      "\u001B[32m[I 2022-05-05 03:55:40,969]\u001B[0m Trial 87 finished with value: 481.4193562331004 and parameters: {'x': -19.9412706157392}. Best is trial 77 with value: 1.7394969805748277e-05.\u001B[0m\n",
      "\u001B[32m[I 2022-05-05 03:55:40,976]\u001B[0m Trial 82 finished with value: 546.1621639536106 and parameters: {'x': -21.3701126217571}. Best is trial 77 with value: 1.7394969805748277e-05.\u001B[0m\n",
      "\u001B[32m[I 2022-05-05 03:55:41,125]\u001B[0m Trial 95 finished with value: 926.596759159193 and parameters: {'x': -28.440051891532526}. Best is trial 77 with value: 1.7394969805748277e-05.\u001B[0m\n",
      "\u001B[32m[I 2022-05-05 03:55:41,165]\u001B[0m Trial 96 finished with value: 0.9806269140350778 and parameters: {'x': 1.0097339175579738}. Best is trial 77 with value: 1.7394969805748277e-05.\u001B[0m\n",
      "\u001B[32m[I 2022-05-05 03:55:41,222]\u001B[0m Trial 88 finished with value: 551.5951181553996 and parameters: {'x': -21.48606221049837}. Best is trial 77 with value: 1.7394969805748277e-05.\u001B[0m\n",
      "\u001B[32m[I 2022-05-05 03:55:41,297]\u001B[0m Trial 97 finished with value: 0.0829256254407931 and parameters: {'x': 2.2879680979566888}. Best is trial 77 with value: 1.7394969805748277e-05.\u001B[0m\n",
      "\u001B[32m[I 2022-05-05 03:55:41,343]\u001B[0m Trial 100 finished with value: 3.3076049521246587 and parameters: {'x': 0.18131779793041947}. Best is trial 77 with value: 1.7252110724350175e-07.\u001B[0m\n",
      "\u001B[32m[I 2022-05-05 03:55:41,353]\u001B[0m Trial 101 finished with value: 1.9159114010383225 and parameters: {'x': 0.6158354862812288}. Best is trial 77 with value: 1.7252110724350175e-07.\u001B[0m\n",
      "\u001B[32m[I 2022-05-05 03:55:41,412]\u001B[0m Trial 99 finished with value: 0.09979851293173268 and parameters: {'x': 1.6840909736463159}. Best is trial 98 with value: 1.7252110724350175e-07.\u001B[0m\n",
      "\u001B[32m[I 2022-05-05 03:55:41,428]\u001B[0m Trial 98 finished with value: 1.7252110724350175e-07 and parameters: {'x': 1.9995846433974962}. Best is trial 98 with value: 1.7252110724350175e-07.\u001B[0m\n",
      "\u001B[32m[I 2022-05-05 03:55:41,446]\u001B[0m Trial 102 finished with value: 99.46197758859003 and parameters: {'x': 11.973062598248847}. Best is trial 98 with value: 1.7252110724350175e-07.\u001B[0m\n",
      "\u001B[32m[I 2022-05-05 03:55:41,473]\u001B[0m Trial 103 finished with value: 76.45194188360442 and parameters: {'x': 10.743680111006144}. Best is trial 98 with value: 1.7252110724350175e-07.\u001B[0m\n",
      "\u001B[32m[I 2022-05-05 03:55:41,478]\u001B[0m Trial 86 finished with value: 76.71486350277458 and parameters: {'x': -6.75870215858346}. Best is trial 98 with value: 1.7252110724350175e-07.\u001B[0m\n",
      "\u001B[32m[I 2022-05-05 03:55:41,584]\u001B[0m Trial 94 finished with value: 1076.215661574656 and parameters: {'x': -30.805726048582677}. Best is trial 98 with value: 1.7252110724350175e-07.\u001B[0m\n",
      "\u001B[32m[I 2022-05-05 03:55:41,614]\u001B[0m Trial 104 finished with value: 385.9499283059409 and parameters: {'x': 21.645608371998584}. Best is trial 98 with value: 1.7252110724350175e-07.\u001B[0m\n",
      "\u001B[32m[I 2022-05-05 03:55:41,707]\u001B[0m Trial 105 finished with value: 25.280764407991608 and parameters: {'x': 7.0279980517092095}. Best is trial 98 with value: 1.7252110724350175e-07.\u001B[0m\n"
     ]
    },
    {
     "name": "stdout",
     "output_type": "stream",
     "text": [
      "Thread_0 finished!\n",
      "Thread_1 finished!\n",
      "Thread_2 finished!\n",
      "Thread_3 finished!\n",
      "Thread_4 finished!\n",
      "Thread_5 finished!\n",
      "Thread_6 finished!\n",
      "Thread_7 finished!\n",
      "Thread_8 finished!\n",
      "Thread_9 finished!\n",
      "Thread_10 finished!\n",
      "Thread_11 finished!\n",
      "Thread_12 finished!\n",
      "Thread_13 finished!\n",
      "Thread_14 finished!\n",
      "Thread_15 finished!\n",
      "Optimization finished!\n"
     ]
    }
   ],
   "source": [
    "def multithread_optimize(timeout, cpu=CPU):\n",
    "    print(\"Optimization with {} threads.\".format(cpu))\n",
    "\n",
    "    processes = []\n",
    "    for i in range(cpu):\n",
    "        processes.append(Thread(target=singlethread_optimize, args=(timeout,), name=\"Thread_{}\".format(i)))\n",
    "        processes[-1].start()\n",
    "\n",
    "    for proc in processes:\n",
    "        proc.join()\n",
    "        print(\"{} finished!\".format(proc.name))\n",
    "\n",
    "    print(\"Optimization finished!\")\n",
    "\n",
    "multithread_optimize(TIMEOUT)"
   ],
   "metadata": {
    "collapsed": false,
    "pycharm": {
     "name": "#%%\n"
    }
   }
  },
  {
   "cell_type": "code",
   "execution_count": 125,
   "outputs": [
    {
     "data": {
      "application/vnd.plotly.v1+json": {
       "data": [
        {
         "marker": {
          "color": [
           0,
           1,
           2,
           3,
           4,
           5,
           6,
           7,
           8,
           9,
           10,
           11,
           12,
           13,
           14,
           15,
           16,
           17,
           18,
           19,
           20,
           21,
           22,
           23,
           24,
           25,
           26,
           27,
           28,
           29,
           30,
           31,
           32,
           33,
           34,
           35,
           36,
           37,
           38,
           39,
           40,
           41,
           42,
           43,
           44,
           45,
           46,
           47,
           48,
           49,
           50,
           51,
           52,
           53,
           54,
           55,
           56,
           57,
           58,
           59,
           60,
           61,
           62,
           63,
           64,
           65,
           66,
           67,
           68,
           69,
           70,
           71,
           72,
           73,
           74,
           75,
           76,
           77,
           78,
           79,
           80,
           81,
           82,
           83,
           84,
           85,
           86,
           87,
           88,
           89,
           90,
           91,
           92,
           93,
           94,
           95,
           96,
           97,
           98,
           99,
           100,
           101,
           102,
           103,
           104,
           105
          ],
          "colorbar": {
           "title": {
            "text": "#Trials"
           },
           "x": 1.0,
           "xpad": 40
          },
          "colorscale": [
           [
            0.0,
            "rgb(247,251,255)"
           ],
           [
            0.125,
            "rgb(222,235,247)"
           ],
           [
            0.25,
            "rgb(198,219,239)"
           ],
           [
            0.375,
            "rgb(158,202,225)"
           ],
           [
            0.5,
            "rgb(107,174,214)"
           ],
           [
            0.625,
            "rgb(66,146,198)"
           ],
           [
            0.75,
            "rgb(33,113,181)"
           ],
           [
            0.875,
            "rgb(8,81,156)"
           ],
           [
            1.0,
            "rgb(8,48,107)"
           ]
          ],
          "line": {
           "color": "Grey",
           "width": 0.5
          }
         },
         "mode": "markers",
         "showlegend": false,
         "x": [
          -58.37851316103257,
          68.12348167779382,
          81.00921274321269,
          -62.43716062373561,
          -65.76092665420008,
          -49.77382829291768,
          -95.60611775081725,
          36.24398713713214,
          9.390529476956132,
          -71.69203963964944,
          78.69845698587105,
          37.46743347531577,
          93.64631714614734,
          -35.21033063602739,
          28.52627816848093,
          -6.96435018662352,
          -34.509986780019304,
          -70.39750950349897,
          2.8773750751711407,
          4.065071522688175,
          -2.275498407160436,
          9.810350057660145,
          -9.157541944160542,
          5.642580339403203,
          4.156081120399403,
          -10.222184135036926,
          -25.791151658970335,
          -93.5920283824837,
          9.302996304460628,
          10.073241096462281,
          17.856597958183233,
          11.96153399551854,
          18.47976028166464,
          21.587435356459913,
          21.955284298892952,
          43.66004732470548,
          55.60839390138427,
          59.64912407996309,
          -17.169996526182604,
          -19.319387677957685,
          -25.06232576772413,
          -24.200768473055398,
          -44.18186488669342,
          -0.9943587198101076,
          -46.2421763539904,
          -42.57555069317489,
          0.22454613751363173,
          1.781853934966759,
          2.959295371546576,
          -0.059083591360606036,
          -0.2872557103506854,
          0.83964424313695,
          1.1526537387938252,
          2.6142680298050984,
          35.753922730906076,
          31.39878761274506,
          36.01424293650274,
          -14.938657160257907,
          -11.816286635329545,
          -13.134316671180063,
          -14.64808057275354,
          -13.599471967994072,
          -9.82954267529975,
          -31.484065817598342,
          25.961884483240222,
          27.27112059602149,
          1.4231791403746572,
          -2.7540406589767397,
          -4.837665495133569,
          -2.536032759636542,
          16.502217274742453,
          17.258759138609513,
          14.450581287577837,
          4.420897539546562,
          13.866018787122778,
          14.28115889873531,
          5.6597637922158155,
          1.995829272269046,
          4.662210433640532,
          8.348322486153121,
          -6.343324157822738,
          -19.49746277533792,
          -21.3701126217571,
          -7.317159800278482,
          22.49327735377062,
          -7.28364737531367,
          -6.75870215858346,
          -19.9412706157392,
          -21.48606221049837,
          -22.060005296018844,
          -8.044035825222405,
          -8.312050700389015,
          2.149446591698469,
          8.17812826071124,
          -30.805726048582677,
          -28.440051891532526,
          1.0097339175579738,
          2.2879680979566888,
          1.9995846433974962,
          1.6840909736463159,
          0.18131779793041947,
          0.6158354862812288,
          11.973062598248847,
          10.743680111006144,
          21.645608371998584,
          7.0279980517092095
         ],
         "y": [
          3645.5648515369835,
          4372.314829193535,
          6242.455698302242,
          4152.147669249102,
          4591.543181035882,
          2680.529296104523,
          9526.954222386401,
          1172.6506550480713,
          54.61992594975748,
          5430.516706251664,
          5882.653304013511,
          1257.9388373259499,
          8399.04744645222,
          1384.6087060424788,
          703.6434334716279,
          80.35957426841713,
          1332.9791346771844,
          5241.399382309223,
          0.7697870225315647,
          4.264520393817658,
          18.279886629631424,
          61.00156802319183,
          124.4907422357018,
          13.268391529006754,
          4.648685797742744,
          149.38178503074832,
          772.3481105318896,
          9137.83589027757,
          53.33375502296558,
          65.1772218016075,
          251.43169880746066,
          99.23215954387156,
          271.5824989411314,
          383.6676238434959,
          398.21337144964355,
          1735.5595430967003,
          2873.859896685974,
          3323.42150718698,
          367.48876681385315,
          454.51629096305396,
          732.3694759584254,
          686.4802685786536,
          2132.7646444128063,
          8.966184142902826,
          2327.3075793695107,
          1986.9797195998044,
          3.1522364178177638,
          0.047587705689486996,
          0.9202476098706837,
          4.239825236210491,
          5.231538684531818,
          1.3464254824852218,
          0.717995686380083,
          0.37732521244063727,
          1139.3272997239778,
          864.2887130992924,
          1156.9687225434266,
          286.9181063927565,
          190.88977638958582,
          229.04754110355879,
          277.1585867568939,
          243.34352568023283,
          139.93807990673798,
          1121.1826636772578,
          574.1719079881485,
          638.6295361786615,
          0.3327223040989194,
          22.600902587203993,
          46.7536694233402,
          20.57559319649591,
          210.31430588383841,
          232.8297304500993,
          155.0169743985834,
          5.860744896982599,
          140.8024018563507,
          150.8268638959855,
          13.393871014813886,
          1.7394969805748277E-5,
          7.087364392984512,
          40.30119838819734,
          69.61105800250851,
          462.1409057770395,
          546.1621639536106,
          86.80946674392536,
          419.9744166985677,
          86.1861085891684,
          76.71486350277458,
          481.4193562331004,
          551.5951181553996,
          578.8838548444548,
          100.88265565835113,
          106.33838964739358,
          0.022334283770288926,
          38.16926880579889,
          1076.215661574656,
          926.596759159193,
          0.9806269140350778,
          0.0829256254407931,
          1.7252110724350175E-7,
          0.09979851293173268,
          3.3076049521246587,
          1.9159114010383225,
          99.46197758859003,
          76.45194188360442,
          385.9499283059409,
          25.280764407991608
         ],
         "type": "scatter"
        }
       ],
       "layout": {
        "title": {
         "text": "Slice Plot"
        },
        "template": {
         "data": {
          "bar": [
           {
            "error_x": {
             "color": "#f2f5fa"
            },
            "error_y": {
             "color": "#f2f5fa"
            },
            "marker": {
             "line": {
              "color": "rgb(17,17,17)",
              "width": 0.5
             },
             "pattern": {
              "fillmode": "overlay",
              "size": 10,
              "solidity": 0.2
             }
            },
            "type": "bar"
           }
          ],
          "barpolar": [
           {
            "marker": {
             "line": {
              "color": "rgb(17,17,17)",
              "width": 0.5
             },
             "pattern": {
              "fillmode": "overlay",
              "size": 10,
              "solidity": 0.2
             }
            },
            "type": "barpolar"
           }
          ],
          "carpet": [
           {
            "aaxis": {
             "endlinecolor": "#A2B1C6",
             "gridcolor": "#506784",
             "linecolor": "#506784",
             "minorgridcolor": "#506784",
             "startlinecolor": "#A2B1C6"
            },
            "baxis": {
             "endlinecolor": "#A2B1C6",
             "gridcolor": "#506784",
             "linecolor": "#506784",
             "minorgridcolor": "#506784",
             "startlinecolor": "#A2B1C6"
            },
            "type": "carpet"
           }
          ],
          "choropleth": [
           {
            "colorbar": {
             "outlinewidth": 0,
             "ticks": ""
            },
            "type": "choropleth"
           }
          ],
          "contour": [
           {
            "colorbar": {
             "outlinewidth": 0,
             "ticks": ""
            },
            "colorscale": [
             [
              0.0,
              "#0d0887"
             ],
             [
              0.1111111111111111,
              "#46039f"
             ],
             [
              0.2222222222222222,
              "#7201a8"
             ],
             [
              0.3333333333333333,
              "#9c179e"
             ],
             [
              0.4444444444444444,
              "#bd3786"
             ],
             [
              0.5555555555555556,
              "#d8576b"
             ],
             [
              0.6666666666666666,
              "#ed7953"
             ],
             [
              0.7777777777777778,
              "#fb9f3a"
             ],
             [
              0.8888888888888888,
              "#fdca26"
             ],
             [
              1.0,
              "#f0f921"
             ]
            ],
            "type": "contour"
           }
          ],
          "contourcarpet": [
           {
            "colorbar": {
             "outlinewidth": 0,
             "ticks": ""
            },
            "type": "contourcarpet"
           }
          ],
          "heatmap": [
           {
            "colorbar": {
             "outlinewidth": 0,
             "ticks": ""
            },
            "colorscale": [
             [
              0.0,
              "#0d0887"
             ],
             [
              0.1111111111111111,
              "#46039f"
             ],
             [
              0.2222222222222222,
              "#7201a8"
             ],
             [
              0.3333333333333333,
              "#9c179e"
             ],
             [
              0.4444444444444444,
              "#bd3786"
             ],
             [
              0.5555555555555556,
              "#d8576b"
             ],
             [
              0.6666666666666666,
              "#ed7953"
             ],
             [
              0.7777777777777778,
              "#fb9f3a"
             ],
             [
              0.8888888888888888,
              "#fdca26"
             ],
             [
              1.0,
              "#f0f921"
             ]
            ],
            "type": "heatmap"
           }
          ],
          "heatmapgl": [
           {
            "colorbar": {
             "outlinewidth": 0,
             "ticks": ""
            },
            "colorscale": [
             [
              0.0,
              "#0d0887"
             ],
             [
              0.1111111111111111,
              "#46039f"
             ],
             [
              0.2222222222222222,
              "#7201a8"
             ],
             [
              0.3333333333333333,
              "#9c179e"
             ],
             [
              0.4444444444444444,
              "#bd3786"
             ],
             [
              0.5555555555555556,
              "#d8576b"
             ],
             [
              0.6666666666666666,
              "#ed7953"
             ],
             [
              0.7777777777777778,
              "#fb9f3a"
             ],
             [
              0.8888888888888888,
              "#fdca26"
             ],
             [
              1.0,
              "#f0f921"
             ]
            ],
            "type": "heatmapgl"
           }
          ],
          "histogram": [
           {
            "marker": {
             "pattern": {
              "fillmode": "overlay",
              "size": 10,
              "solidity": 0.2
             }
            },
            "type": "histogram"
           }
          ],
          "histogram2d": [
           {
            "colorbar": {
             "outlinewidth": 0,
             "ticks": ""
            },
            "colorscale": [
             [
              0.0,
              "#0d0887"
             ],
             [
              0.1111111111111111,
              "#46039f"
             ],
             [
              0.2222222222222222,
              "#7201a8"
             ],
             [
              0.3333333333333333,
              "#9c179e"
             ],
             [
              0.4444444444444444,
              "#bd3786"
             ],
             [
              0.5555555555555556,
              "#d8576b"
             ],
             [
              0.6666666666666666,
              "#ed7953"
             ],
             [
              0.7777777777777778,
              "#fb9f3a"
             ],
             [
              0.8888888888888888,
              "#fdca26"
             ],
             [
              1.0,
              "#f0f921"
             ]
            ],
            "type": "histogram2d"
           }
          ],
          "histogram2dcontour": [
           {
            "colorbar": {
             "outlinewidth": 0,
             "ticks": ""
            },
            "colorscale": [
             [
              0.0,
              "#0d0887"
             ],
             [
              0.1111111111111111,
              "#46039f"
             ],
             [
              0.2222222222222222,
              "#7201a8"
             ],
             [
              0.3333333333333333,
              "#9c179e"
             ],
             [
              0.4444444444444444,
              "#bd3786"
             ],
             [
              0.5555555555555556,
              "#d8576b"
             ],
             [
              0.6666666666666666,
              "#ed7953"
             ],
             [
              0.7777777777777778,
              "#fb9f3a"
             ],
             [
              0.8888888888888888,
              "#fdca26"
             ],
             [
              1.0,
              "#f0f921"
             ]
            ],
            "type": "histogram2dcontour"
           }
          ],
          "mesh3d": [
           {
            "colorbar": {
             "outlinewidth": 0,
             "ticks": ""
            },
            "type": "mesh3d"
           }
          ],
          "parcoords": [
           {
            "line": {
             "colorbar": {
              "outlinewidth": 0,
              "ticks": ""
             }
            },
            "type": "parcoords"
           }
          ],
          "pie": [
           {
            "automargin": true,
            "type": "pie"
           }
          ],
          "scatter": [
           {
            "marker": {
             "line": {
              "color": "#283442"
             }
            },
            "type": "scatter"
           }
          ],
          "scatter3d": [
           {
            "line": {
             "colorbar": {
              "outlinewidth": 0,
              "ticks": ""
             }
            },
            "marker": {
             "colorbar": {
              "outlinewidth": 0,
              "ticks": ""
             }
            },
            "type": "scatter3d"
           }
          ],
          "scattercarpet": [
           {
            "marker": {
             "colorbar": {
              "outlinewidth": 0,
              "ticks": ""
             }
            },
            "type": "scattercarpet"
           }
          ],
          "scattergeo": [
           {
            "marker": {
             "colorbar": {
              "outlinewidth": 0,
              "ticks": ""
             }
            },
            "type": "scattergeo"
           }
          ],
          "scattergl": [
           {
            "marker": {
             "line": {
              "color": "#283442"
             }
            },
            "type": "scattergl"
           }
          ],
          "scattermapbox": [
           {
            "marker": {
             "colorbar": {
              "outlinewidth": 0,
              "ticks": ""
             }
            },
            "type": "scattermapbox"
           }
          ],
          "scatterpolar": [
           {
            "marker": {
             "colorbar": {
              "outlinewidth": 0,
              "ticks": ""
             }
            },
            "type": "scatterpolar"
           }
          ],
          "scatterpolargl": [
           {
            "marker": {
             "colorbar": {
              "outlinewidth": 0,
              "ticks": ""
             }
            },
            "type": "scatterpolargl"
           }
          ],
          "scatterternary": [
           {
            "marker": {
             "colorbar": {
              "outlinewidth": 0,
              "ticks": ""
             }
            },
            "type": "scatterternary"
           }
          ],
          "surface": [
           {
            "colorbar": {
             "outlinewidth": 0,
             "ticks": ""
            },
            "colorscale": [
             [
              0.0,
              "#0d0887"
             ],
             [
              0.1111111111111111,
              "#46039f"
             ],
             [
              0.2222222222222222,
              "#7201a8"
             ],
             [
              0.3333333333333333,
              "#9c179e"
             ],
             [
              0.4444444444444444,
              "#bd3786"
             ],
             [
              0.5555555555555556,
              "#d8576b"
             ],
             [
              0.6666666666666666,
              "#ed7953"
             ],
             [
              0.7777777777777778,
              "#fb9f3a"
             ],
             [
              0.8888888888888888,
              "#fdca26"
             ],
             [
              1.0,
              "#f0f921"
             ]
            ],
            "type": "surface"
           }
          ],
          "table": [
           {
            "cells": {
             "fill": {
              "color": "#506784"
             },
             "line": {
              "color": "rgb(17,17,17)"
             }
            },
            "header": {
             "fill": {
              "color": "#2a3f5f"
             },
             "line": {
              "color": "rgb(17,17,17)"
             }
            },
            "type": "table"
           }
          ]
         },
         "layout": {
          "annotationdefaults": {
           "arrowcolor": "#f2f5fa",
           "arrowhead": 0,
           "arrowwidth": 1
          },
          "autotypenumbers": "strict",
          "coloraxis": {
           "colorbar": {
            "outlinewidth": 0,
            "ticks": ""
           }
          },
          "colorscale": {
           "diverging": [
            [
             0,
             "#8e0152"
            ],
            [
             0.1,
             "#c51b7d"
            ],
            [
             0.2,
             "#de77ae"
            ],
            [
             0.3,
             "#f1b6da"
            ],
            [
             0.4,
             "#fde0ef"
            ],
            [
             0.5,
             "#f7f7f7"
            ],
            [
             0.6,
             "#e6f5d0"
            ],
            [
             0.7,
             "#b8e186"
            ],
            [
             0.8,
             "#7fbc41"
            ],
            [
             0.9,
             "#4d9221"
            ],
            [
             1,
             "#276419"
            ]
           ],
           "sequential": [
            [
             0.0,
             "#0d0887"
            ],
            [
             0.1111111111111111,
             "#46039f"
            ],
            [
             0.2222222222222222,
             "#7201a8"
            ],
            [
             0.3333333333333333,
             "#9c179e"
            ],
            [
             0.4444444444444444,
             "#bd3786"
            ],
            [
             0.5555555555555556,
             "#d8576b"
            ],
            [
             0.6666666666666666,
             "#ed7953"
            ],
            [
             0.7777777777777778,
             "#fb9f3a"
            ],
            [
             0.8888888888888888,
             "#fdca26"
            ],
            [
             1.0,
             "#f0f921"
            ]
           ],
           "sequentialminus": [
            [
             0.0,
             "#0d0887"
            ],
            [
             0.1111111111111111,
             "#46039f"
            ],
            [
             0.2222222222222222,
             "#7201a8"
            ],
            [
             0.3333333333333333,
             "#9c179e"
            ],
            [
             0.4444444444444444,
             "#bd3786"
            ],
            [
             0.5555555555555556,
             "#d8576b"
            ],
            [
             0.6666666666666666,
             "#ed7953"
            ],
            [
             0.7777777777777778,
             "#fb9f3a"
            ],
            [
             0.8888888888888888,
             "#fdca26"
            ],
            [
             1.0,
             "#f0f921"
            ]
           ]
          },
          "colorway": [
           "#636efa",
           "#EF553B",
           "#00cc96",
           "#ab63fa",
           "#FFA15A",
           "#19d3f3",
           "#FF6692",
           "#B6E880",
           "#FF97FF",
           "#FECB52"
          ],
          "font": {
           "color": "#f2f5fa"
          },
          "geo": {
           "bgcolor": "rgb(17,17,17)",
           "lakecolor": "rgb(17,17,17)",
           "landcolor": "rgb(17,17,17)",
           "showlakes": true,
           "showland": true,
           "subunitcolor": "#506784"
          },
          "hoverlabel": {
           "align": "left"
          },
          "hovermode": "closest",
          "mapbox": {
           "style": "dark"
          },
          "paper_bgcolor": "rgb(17,17,17)",
          "plot_bgcolor": "rgb(17,17,17)",
          "polar": {
           "angularaxis": {
            "gridcolor": "#506784",
            "linecolor": "#506784",
            "ticks": ""
           },
           "bgcolor": "rgb(17,17,17)",
           "radialaxis": {
            "gridcolor": "#506784",
            "linecolor": "#506784",
            "ticks": ""
           }
          },
          "scene": {
           "xaxis": {
            "backgroundcolor": "rgb(17,17,17)",
            "gridcolor": "#506784",
            "gridwidth": 2,
            "linecolor": "#506784",
            "showbackground": true,
            "ticks": "",
            "zerolinecolor": "#C8D4E3"
           },
           "yaxis": {
            "backgroundcolor": "rgb(17,17,17)",
            "gridcolor": "#506784",
            "gridwidth": 2,
            "linecolor": "#506784",
            "showbackground": true,
            "ticks": "",
            "zerolinecolor": "#C8D4E3"
           },
           "zaxis": {
            "backgroundcolor": "rgb(17,17,17)",
            "gridcolor": "#506784",
            "gridwidth": 2,
            "linecolor": "#506784",
            "showbackground": true,
            "ticks": "",
            "zerolinecolor": "#C8D4E3"
           }
          },
          "shapedefaults": {
           "line": {
            "color": "#f2f5fa"
           }
          },
          "sliderdefaults": {
           "bgcolor": "#C8D4E3",
           "bordercolor": "rgb(17,17,17)",
           "borderwidth": 1,
           "tickwidth": 0
          },
          "ternary": {
           "aaxis": {
            "gridcolor": "#506784",
            "linecolor": "#506784",
            "ticks": ""
           },
           "baxis": {
            "gridcolor": "#506784",
            "linecolor": "#506784",
            "ticks": ""
           },
           "bgcolor": "rgb(17,17,17)",
           "caxis": {
            "gridcolor": "#506784",
            "linecolor": "#506784",
            "ticks": ""
           }
          },
          "title": {
           "x": 0.05
          },
          "updatemenudefaults": {
           "bgcolor": "#506784",
           "borderwidth": 0
          },
          "xaxis": {
           "automargin": true,
           "gridcolor": "#283442",
           "linecolor": "#506784",
           "ticks": "",
           "title": {
            "standoff": 15
           },
           "zerolinecolor": "#283442",
           "zerolinewidth": 2
          },
          "yaxis": {
           "automargin": true,
           "gridcolor": "#283442",
           "linecolor": "#506784",
           "ticks": "",
           "title": {
            "standoff": 15
           },
           "zerolinecolor": "#283442",
           "zerolinewidth": 2
          }
         }
        },
        "xaxis": {
         "title": {
          "text": "x"
         }
        },
        "yaxis": {
         "title": {
          "text": "Objective Value"
         }
        }
       },
       "config": {
        "plotlyServerURL": "https://plot.ly"
       }
      },
      "text/html": "<div>                            <div id=\"e03d0390-e810-4c73-9a4f-896f06c79027\" class=\"plotly-graph-div\" style=\"height:525px; width:100%;\"></div>            <script type=\"text/javascript\">                require([\"plotly\"], function(Plotly) {                    window.PLOTLYENV=window.PLOTLYENV || {};                                    if (document.getElementById(\"e03d0390-e810-4c73-9a4f-896f06c79027\")) {                    Plotly.newPlot(                        \"e03d0390-e810-4c73-9a4f-896f06c79027\",                        [{\"marker\":{\"color\":[0,1,2,3,4,5,6,7,8,9,10,11,12,13,14,15,16,17,18,19,20,21,22,23,24,25,26,27,28,29,30,31,32,33,34,35,36,37,38,39,40,41,42,43,44,45,46,47,48,49,50,51,52,53,54,55,56,57,58,59,60,61,62,63,64,65,66,67,68,69,70,71,72,73,74,75,76,77,78,79,80,81,82,83,84,85,86,87,88,89,90,91,92,93,94,95,96,97,98,99,100,101,102,103,104,105],\"colorbar\":{\"title\":{\"text\":\"#Trials\"},\"x\":1.0,\"xpad\":40},\"colorscale\":[[0.0,\"rgb(247,251,255)\"],[0.125,\"rgb(222,235,247)\"],[0.25,\"rgb(198,219,239)\"],[0.375,\"rgb(158,202,225)\"],[0.5,\"rgb(107,174,214)\"],[0.625,\"rgb(66,146,198)\"],[0.75,\"rgb(33,113,181)\"],[0.875,\"rgb(8,81,156)\"],[1.0,\"rgb(8,48,107)\"]],\"line\":{\"color\":\"Grey\",\"width\":0.5}},\"mode\":\"markers\",\"showlegend\":false,\"x\":[-58.37851316103257,68.12348167779382,81.00921274321269,-62.43716062373561,-65.76092665420008,-49.77382829291768,-95.60611775081725,36.24398713713214,9.390529476956132,-71.69203963964944,78.69845698587105,37.46743347531577,93.64631714614734,-35.21033063602739,28.52627816848093,-6.96435018662352,-34.509986780019304,-70.39750950349897,2.8773750751711407,4.065071522688175,-2.275498407160436,9.810350057660145,-9.157541944160542,5.642580339403203,4.156081120399403,-10.222184135036926,-25.791151658970335,-93.5920283824837,9.302996304460628,10.073241096462281,17.856597958183233,11.96153399551854,18.47976028166464,21.587435356459913,21.955284298892952,43.66004732470548,55.60839390138427,59.64912407996309,-17.169996526182604,-19.319387677957685,-25.06232576772413,-24.200768473055398,-44.18186488669342,-0.9943587198101076,-46.2421763539904,-42.57555069317489,0.22454613751363173,1.781853934966759,2.959295371546576,-0.059083591360606036,-0.2872557103506854,0.83964424313695,1.1526537387938252,2.6142680298050984,35.753922730906076,31.39878761274506,36.01424293650274,-14.938657160257907,-11.816286635329545,-13.134316671180063,-14.64808057275354,-13.599471967994072,-9.82954267529975,-31.484065817598342,25.961884483240222,27.27112059602149,1.4231791403746572,-2.7540406589767397,-4.837665495133569,-2.536032759636542,16.502217274742453,17.258759138609513,14.450581287577837,4.420897539546562,13.866018787122778,14.28115889873531,5.6597637922158155,1.995829272269046,4.662210433640532,8.348322486153121,-6.343324157822738,-19.49746277533792,-21.3701126217571,-7.317159800278482,22.49327735377062,-7.28364737531367,-6.75870215858346,-19.9412706157392,-21.48606221049837,-22.060005296018844,-8.044035825222405,-8.312050700389015,2.149446591698469,8.17812826071124,-30.805726048582677,-28.440051891532526,1.0097339175579738,2.2879680979566888,1.9995846433974962,1.6840909736463159,0.18131779793041947,0.6158354862812288,11.973062598248847,10.743680111006144,21.645608371998584,7.0279980517092095],\"y\":[3645.5648515369835,4372.314829193535,6242.455698302242,4152.147669249102,4591.543181035882,2680.529296104523,9526.954222386401,1172.6506550480713,54.61992594975748,5430.516706251664,5882.653304013511,1257.9388373259499,8399.04744645222,1384.6087060424788,703.6434334716279,80.35957426841713,1332.9791346771844,5241.399382309223,0.7697870225315647,4.264520393817658,18.279886629631424,61.00156802319183,124.4907422357018,13.268391529006754,4.648685797742744,149.38178503074832,772.3481105318896,9137.83589027757,53.33375502296558,65.1772218016075,251.43169880746066,99.23215954387156,271.5824989411314,383.6676238434959,398.21337144964355,1735.5595430967003,2873.859896685974,3323.42150718698,367.48876681385315,454.51629096305396,732.3694759584254,686.4802685786536,2132.7646444128063,8.966184142902826,2327.3075793695107,1986.9797195998044,3.1522364178177638,0.047587705689486996,0.9202476098706837,4.239825236210491,5.231538684531818,1.3464254824852218,0.717995686380083,0.37732521244063727,1139.3272997239778,864.2887130992924,1156.9687225434266,286.9181063927565,190.88977638958582,229.04754110355879,277.1585867568939,243.34352568023283,139.93807990673798,1121.1826636772578,574.1719079881485,638.6295361786615,0.3327223040989194,22.600902587203993,46.7536694233402,20.57559319649591,210.31430588383841,232.8297304500993,155.0169743985834,5.860744896982599,140.8024018563507,150.8268638959855,13.393871014813886,1.7394969805748277e-05,7.087364392984512,40.30119838819734,69.61105800250851,462.1409057770395,546.1621639536106,86.80946674392536,419.9744166985677,86.1861085891684,76.71486350277458,481.4193562331004,551.5951181553996,578.8838548444548,100.88265565835113,106.33838964739358,0.022334283770288926,38.16926880579889,1076.215661574656,926.596759159193,0.9806269140350778,0.0829256254407931,1.7252110724350175e-07,0.09979851293173268,3.3076049521246587,1.9159114010383225,99.46197758859003,76.45194188360442,385.9499283059409,25.280764407991608],\"type\":\"scatter\"}],                        {\"title\":{\"text\":\"Slice Plot\"},\"template\":{\"data\":{\"bar\":[{\"error_x\":{\"color\":\"#f2f5fa\"},\"error_y\":{\"color\":\"#f2f5fa\"},\"marker\":{\"line\":{\"color\":\"rgb(17,17,17)\",\"width\":0.5},\"pattern\":{\"fillmode\":\"overlay\",\"size\":10,\"solidity\":0.2}},\"type\":\"bar\"}],\"barpolar\":[{\"marker\":{\"line\":{\"color\":\"rgb(17,17,17)\",\"width\":0.5},\"pattern\":{\"fillmode\":\"overlay\",\"size\":10,\"solidity\":0.2}},\"type\":\"barpolar\"}],\"carpet\":[{\"aaxis\":{\"endlinecolor\":\"#A2B1C6\",\"gridcolor\":\"#506784\",\"linecolor\":\"#506784\",\"minorgridcolor\":\"#506784\",\"startlinecolor\":\"#A2B1C6\"},\"baxis\":{\"endlinecolor\":\"#A2B1C6\",\"gridcolor\":\"#506784\",\"linecolor\":\"#506784\",\"minorgridcolor\":\"#506784\",\"startlinecolor\":\"#A2B1C6\"},\"type\":\"carpet\"}],\"choropleth\":[{\"colorbar\":{\"outlinewidth\":0,\"ticks\":\"\"},\"type\":\"choropleth\"}],\"contour\":[{\"colorbar\":{\"outlinewidth\":0,\"ticks\":\"\"},\"colorscale\":[[0.0,\"#0d0887\"],[0.1111111111111111,\"#46039f\"],[0.2222222222222222,\"#7201a8\"],[0.3333333333333333,\"#9c179e\"],[0.4444444444444444,\"#bd3786\"],[0.5555555555555556,\"#d8576b\"],[0.6666666666666666,\"#ed7953\"],[0.7777777777777778,\"#fb9f3a\"],[0.8888888888888888,\"#fdca26\"],[1.0,\"#f0f921\"]],\"type\":\"contour\"}],\"contourcarpet\":[{\"colorbar\":{\"outlinewidth\":0,\"ticks\":\"\"},\"type\":\"contourcarpet\"}],\"heatmap\":[{\"colorbar\":{\"outlinewidth\":0,\"ticks\":\"\"},\"colorscale\":[[0.0,\"#0d0887\"],[0.1111111111111111,\"#46039f\"],[0.2222222222222222,\"#7201a8\"],[0.3333333333333333,\"#9c179e\"],[0.4444444444444444,\"#bd3786\"],[0.5555555555555556,\"#d8576b\"],[0.6666666666666666,\"#ed7953\"],[0.7777777777777778,\"#fb9f3a\"],[0.8888888888888888,\"#fdca26\"],[1.0,\"#f0f921\"]],\"type\":\"heatmap\"}],\"heatmapgl\":[{\"colorbar\":{\"outlinewidth\":0,\"ticks\":\"\"},\"colorscale\":[[0.0,\"#0d0887\"],[0.1111111111111111,\"#46039f\"],[0.2222222222222222,\"#7201a8\"],[0.3333333333333333,\"#9c179e\"],[0.4444444444444444,\"#bd3786\"],[0.5555555555555556,\"#d8576b\"],[0.6666666666666666,\"#ed7953\"],[0.7777777777777778,\"#fb9f3a\"],[0.8888888888888888,\"#fdca26\"],[1.0,\"#f0f921\"]],\"type\":\"heatmapgl\"}],\"histogram\":[{\"marker\":{\"pattern\":{\"fillmode\":\"overlay\",\"size\":10,\"solidity\":0.2}},\"type\":\"histogram\"}],\"histogram2d\":[{\"colorbar\":{\"outlinewidth\":0,\"ticks\":\"\"},\"colorscale\":[[0.0,\"#0d0887\"],[0.1111111111111111,\"#46039f\"],[0.2222222222222222,\"#7201a8\"],[0.3333333333333333,\"#9c179e\"],[0.4444444444444444,\"#bd3786\"],[0.5555555555555556,\"#d8576b\"],[0.6666666666666666,\"#ed7953\"],[0.7777777777777778,\"#fb9f3a\"],[0.8888888888888888,\"#fdca26\"],[1.0,\"#f0f921\"]],\"type\":\"histogram2d\"}],\"histogram2dcontour\":[{\"colorbar\":{\"outlinewidth\":0,\"ticks\":\"\"},\"colorscale\":[[0.0,\"#0d0887\"],[0.1111111111111111,\"#46039f\"],[0.2222222222222222,\"#7201a8\"],[0.3333333333333333,\"#9c179e\"],[0.4444444444444444,\"#bd3786\"],[0.5555555555555556,\"#d8576b\"],[0.6666666666666666,\"#ed7953\"],[0.7777777777777778,\"#fb9f3a\"],[0.8888888888888888,\"#fdca26\"],[1.0,\"#f0f921\"]],\"type\":\"histogram2dcontour\"}],\"mesh3d\":[{\"colorbar\":{\"outlinewidth\":0,\"ticks\":\"\"},\"type\":\"mesh3d\"}],\"parcoords\":[{\"line\":{\"colorbar\":{\"outlinewidth\":0,\"ticks\":\"\"}},\"type\":\"parcoords\"}],\"pie\":[{\"automargin\":true,\"type\":\"pie\"}],\"scatter\":[{\"marker\":{\"line\":{\"color\":\"#283442\"}},\"type\":\"scatter\"}],\"scatter3d\":[{\"line\":{\"colorbar\":{\"outlinewidth\":0,\"ticks\":\"\"}},\"marker\":{\"colorbar\":{\"outlinewidth\":0,\"ticks\":\"\"}},\"type\":\"scatter3d\"}],\"scattercarpet\":[{\"marker\":{\"colorbar\":{\"outlinewidth\":0,\"ticks\":\"\"}},\"type\":\"scattercarpet\"}],\"scattergeo\":[{\"marker\":{\"colorbar\":{\"outlinewidth\":0,\"ticks\":\"\"}},\"type\":\"scattergeo\"}],\"scattergl\":[{\"marker\":{\"line\":{\"color\":\"#283442\"}},\"type\":\"scattergl\"}],\"scattermapbox\":[{\"marker\":{\"colorbar\":{\"outlinewidth\":0,\"ticks\":\"\"}},\"type\":\"scattermapbox\"}],\"scatterpolar\":[{\"marker\":{\"colorbar\":{\"outlinewidth\":0,\"ticks\":\"\"}},\"type\":\"scatterpolar\"}],\"scatterpolargl\":[{\"marker\":{\"colorbar\":{\"outlinewidth\":0,\"ticks\":\"\"}},\"type\":\"scatterpolargl\"}],\"scatterternary\":[{\"marker\":{\"colorbar\":{\"outlinewidth\":0,\"ticks\":\"\"}},\"type\":\"scatterternary\"}],\"surface\":[{\"colorbar\":{\"outlinewidth\":0,\"ticks\":\"\"},\"colorscale\":[[0.0,\"#0d0887\"],[0.1111111111111111,\"#46039f\"],[0.2222222222222222,\"#7201a8\"],[0.3333333333333333,\"#9c179e\"],[0.4444444444444444,\"#bd3786\"],[0.5555555555555556,\"#d8576b\"],[0.6666666666666666,\"#ed7953\"],[0.7777777777777778,\"#fb9f3a\"],[0.8888888888888888,\"#fdca26\"],[1.0,\"#f0f921\"]],\"type\":\"surface\"}],\"table\":[{\"cells\":{\"fill\":{\"color\":\"#506784\"},\"line\":{\"color\":\"rgb(17,17,17)\"}},\"header\":{\"fill\":{\"color\":\"#2a3f5f\"},\"line\":{\"color\":\"rgb(17,17,17)\"}},\"type\":\"table\"}]},\"layout\":{\"annotationdefaults\":{\"arrowcolor\":\"#f2f5fa\",\"arrowhead\":0,\"arrowwidth\":1},\"autotypenumbers\":\"strict\",\"coloraxis\":{\"colorbar\":{\"outlinewidth\":0,\"ticks\":\"\"}},\"colorscale\":{\"diverging\":[[0,\"#8e0152\"],[0.1,\"#c51b7d\"],[0.2,\"#de77ae\"],[0.3,\"#f1b6da\"],[0.4,\"#fde0ef\"],[0.5,\"#f7f7f7\"],[0.6,\"#e6f5d0\"],[0.7,\"#b8e186\"],[0.8,\"#7fbc41\"],[0.9,\"#4d9221\"],[1,\"#276419\"]],\"sequential\":[[0.0,\"#0d0887\"],[0.1111111111111111,\"#46039f\"],[0.2222222222222222,\"#7201a8\"],[0.3333333333333333,\"#9c179e\"],[0.4444444444444444,\"#bd3786\"],[0.5555555555555556,\"#d8576b\"],[0.6666666666666666,\"#ed7953\"],[0.7777777777777778,\"#fb9f3a\"],[0.8888888888888888,\"#fdca26\"],[1.0,\"#f0f921\"]],\"sequentialminus\":[[0.0,\"#0d0887\"],[0.1111111111111111,\"#46039f\"],[0.2222222222222222,\"#7201a8\"],[0.3333333333333333,\"#9c179e\"],[0.4444444444444444,\"#bd3786\"],[0.5555555555555556,\"#d8576b\"],[0.6666666666666666,\"#ed7953\"],[0.7777777777777778,\"#fb9f3a\"],[0.8888888888888888,\"#fdca26\"],[1.0,\"#f0f921\"]]},\"colorway\":[\"#636efa\",\"#EF553B\",\"#00cc96\",\"#ab63fa\",\"#FFA15A\",\"#19d3f3\",\"#FF6692\",\"#B6E880\",\"#FF97FF\",\"#FECB52\"],\"font\":{\"color\":\"#f2f5fa\"},\"geo\":{\"bgcolor\":\"rgb(17,17,17)\",\"lakecolor\":\"rgb(17,17,17)\",\"landcolor\":\"rgb(17,17,17)\",\"showlakes\":true,\"showland\":true,\"subunitcolor\":\"#506784\"},\"hoverlabel\":{\"align\":\"left\"},\"hovermode\":\"closest\",\"mapbox\":{\"style\":\"dark\"},\"paper_bgcolor\":\"rgb(17,17,17)\",\"plot_bgcolor\":\"rgb(17,17,17)\",\"polar\":{\"angularaxis\":{\"gridcolor\":\"#506784\",\"linecolor\":\"#506784\",\"ticks\":\"\"},\"bgcolor\":\"rgb(17,17,17)\",\"radialaxis\":{\"gridcolor\":\"#506784\",\"linecolor\":\"#506784\",\"ticks\":\"\"}},\"scene\":{\"xaxis\":{\"backgroundcolor\":\"rgb(17,17,17)\",\"gridcolor\":\"#506784\",\"gridwidth\":2,\"linecolor\":\"#506784\",\"showbackground\":true,\"ticks\":\"\",\"zerolinecolor\":\"#C8D4E3\"},\"yaxis\":{\"backgroundcolor\":\"rgb(17,17,17)\",\"gridcolor\":\"#506784\",\"gridwidth\":2,\"linecolor\":\"#506784\",\"showbackground\":true,\"ticks\":\"\",\"zerolinecolor\":\"#C8D4E3\"},\"zaxis\":{\"backgroundcolor\":\"rgb(17,17,17)\",\"gridcolor\":\"#506784\",\"gridwidth\":2,\"linecolor\":\"#506784\",\"showbackground\":true,\"ticks\":\"\",\"zerolinecolor\":\"#C8D4E3\"}},\"shapedefaults\":{\"line\":{\"color\":\"#f2f5fa\"}},\"sliderdefaults\":{\"bgcolor\":\"#C8D4E3\",\"bordercolor\":\"rgb(17,17,17)\",\"borderwidth\":1,\"tickwidth\":0},\"ternary\":{\"aaxis\":{\"gridcolor\":\"#506784\",\"linecolor\":\"#506784\",\"ticks\":\"\"},\"baxis\":{\"gridcolor\":\"#506784\",\"linecolor\":\"#506784\",\"ticks\":\"\"},\"bgcolor\":\"rgb(17,17,17)\",\"caxis\":{\"gridcolor\":\"#506784\",\"linecolor\":\"#506784\",\"ticks\":\"\"}},\"title\":{\"x\":0.05},\"updatemenudefaults\":{\"bgcolor\":\"#506784\",\"borderwidth\":0},\"xaxis\":{\"automargin\":true,\"gridcolor\":\"#283442\",\"linecolor\":\"#506784\",\"ticks\":\"\",\"title\":{\"standoff\":15},\"zerolinecolor\":\"#283442\",\"zerolinewidth\":2},\"yaxis\":{\"automargin\":true,\"gridcolor\":\"#283442\",\"linecolor\":\"#506784\",\"ticks\":\"\",\"title\":{\"standoff\":15},\"zerolinecolor\":\"#283442\",\"zerolinewidth\":2}}},\"xaxis\":{\"title\":{\"text\":\"x\"}},\"yaxis\":{\"title\":{\"text\":\"Objective Value\"}}},                        {\"responsive\": true}                    ).then(function(){\n                            \nvar gd = document.getElementById('e03d0390-e810-4c73-9a4f-896f06c79027');\nvar x = new MutationObserver(function (mutations, observer) {{\n        var display = window.getComputedStyle(gd).display;\n        if (!display || display === 'none') {{\n            console.log([gd, 'removed!']);\n            Plotly.purge(gd);\n            observer.disconnect();\n        }}\n}});\n\n// Listen for the removal of the full notebook cells\nvar notebookContainer = gd.closest('#notebook-container');\nif (notebookContainer) {{\n    x.observe(notebookContainer, {childList: true});\n}}\n\n// Listen for the clearing of the current output cell\nvar outputEl = gd.closest('.output');\nif (outputEl) {{\n    x.observe(outputEl, {childList: true});\n}}\n\n                        })                };                });            </script>        </div>"
     },
     "metadata": {},
     "output_type": "display_data"
    },
    {
     "name": "stderr",
     "output_type": "stream",
     "text": [
      "\u001B[33m[W 2022-05-05 03:55:41,841]\u001B[0m The length of params must be greater than 1.\u001B[0m\n"
     ]
    },
    {
     "data": {
      "application/vnd.plotly.v1+json": {
       "data": [],
       "layout": {
        "title": {
         "text": "Contour Plot"
        },
        "template": {
         "data": {
          "bar": [
           {
            "error_x": {
             "color": "#f2f5fa"
            },
            "error_y": {
             "color": "#f2f5fa"
            },
            "marker": {
             "line": {
              "color": "rgb(17,17,17)",
              "width": 0.5
             },
             "pattern": {
              "fillmode": "overlay",
              "size": 10,
              "solidity": 0.2
             }
            },
            "type": "bar"
           }
          ],
          "barpolar": [
           {
            "marker": {
             "line": {
              "color": "rgb(17,17,17)",
              "width": 0.5
             },
             "pattern": {
              "fillmode": "overlay",
              "size": 10,
              "solidity": 0.2
             }
            },
            "type": "barpolar"
           }
          ],
          "carpet": [
           {
            "aaxis": {
             "endlinecolor": "#A2B1C6",
             "gridcolor": "#506784",
             "linecolor": "#506784",
             "minorgridcolor": "#506784",
             "startlinecolor": "#A2B1C6"
            },
            "baxis": {
             "endlinecolor": "#A2B1C6",
             "gridcolor": "#506784",
             "linecolor": "#506784",
             "minorgridcolor": "#506784",
             "startlinecolor": "#A2B1C6"
            },
            "type": "carpet"
           }
          ],
          "choropleth": [
           {
            "colorbar": {
             "outlinewidth": 0,
             "ticks": ""
            },
            "type": "choropleth"
           }
          ],
          "contour": [
           {
            "colorbar": {
             "outlinewidth": 0,
             "ticks": ""
            },
            "colorscale": [
             [
              0.0,
              "#0d0887"
             ],
             [
              0.1111111111111111,
              "#46039f"
             ],
             [
              0.2222222222222222,
              "#7201a8"
             ],
             [
              0.3333333333333333,
              "#9c179e"
             ],
             [
              0.4444444444444444,
              "#bd3786"
             ],
             [
              0.5555555555555556,
              "#d8576b"
             ],
             [
              0.6666666666666666,
              "#ed7953"
             ],
             [
              0.7777777777777778,
              "#fb9f3a"
             ],
             [
              0.8888888888888888,
              "#fdca26"
             ],
             [
              1.0,
              "#f0f921"
             ]
            ],
            "type": "contour"
           }
          ],
          "contourcarpet": [
           {
            "colorbar": {
             "outlinewidth": 0,
             "ticks": ""
            },
            "type": "contourcarpet"
           }
          ],
          "heatmap": [
           {
            "colorbar": {
             "outlinewidth": 0,
             "ticks": ""
            },
            "colorscale": [
             [
              0.0,
              "#0d0887"
             ],
             [
              0.1111111111111111,
              "#46039f"
             ],
             [
              0.2222222222222222,
              "#7201a8"
             ],
             [
              0.3333333333333333,
              "#9c179e"
             ],
             [
              0.4444444444444444,
              "#bd3786"
             ],
             [
              0.5555555555555556,
              "#d8576b"
             ],
             [
              0.6666666666666666,
              "#ed7953"
             ],
             [
              0.7777777777777778,
              "#fb9f3a"
             ],
             [
              0.8888888888888888,
              "#fdca26"
             ],
             [
              1.0,
              "#f0f921"
             ]
            ],
            "type": "heatmap"
           }
          ],
          "heatmapgl": [
           {
            "colorbar": {
             "outlinewidth": 0,
             "ticks": ""
            },
            "colorscale": [
             [
              0.0,
              "#0d0887"
             ],
             [
              0.1111111111111111,
              "#46039f"
             ],
             [
              0.2222222222222222,
              "#7201a8"
             ],
             [
              0.3333333333333333,
              "#9c179e"
             ],
             [
              0.4444444444444444,
              "#bd3786"
             ],
             [
              0.5555555555555556,
              "#d8576b"
             ],
             [
              0.6666666666666666,
              "#ed7953"
             ],
             [
              0.7777777777777778,
              "#fb9f3a"
             ],
             [
              0.8888888888888888,
              "#fdca26"
             ],
             [
              1.0,
              "#f0f921"
             ]
            ],
            "type": "heatmapgl"
           }
          ],
          "histogram": [
           {
            "marker": {
             "pattern": {
              "fillmode": "overlay",
              "size": 10,
              "solidity": 0.2
             }
            },
            "type": "histogram"
           }
          ],
          "histogram2d": [
           {
            "colorbar": {
             "outlinewidth": 0,
             "ticks": ""
            },
            "colorscale": [
             [
              0.0,
              "#0d0887"
             ],
             [
              0.1111111111111111,
              "#46039f"
             ],
             [
              0.2222222222222222,
              "#7201a8"
             ],
             [
              0.3333333333333333,
              "#9c179e"
             ],
             [
              0.4444444444444444,
              "#bd3786"
             ],
             [
              0.5555555555555556,
              "#d8576b"
             ],
             [
              0.6666666666666666,
              "#ed7953"
             ],
             [
              0.7777777777777778,
              "#fb9f3a"
             ],
             [
              0.8888888888888888,
              "#fdca26"
             ],
             [
              1.0,
              "#f0f921"
             ]
            ],
            "type": "histogram2d"
           }
          ],
          "histogram2dcontour": [
           {
            "colorbar": {
             "outlinewidth": 0,
             "ticks": ""
            },
            "colorscale": [
             [
              0.0,
              "#0d0887"
             ],
             [
              0.1111111111111111,
              "#46039f"
             ],
             [
              0.2222222222222222,
              "#7201a8"
             ],
             [
              0.3333333333333333,
              "#9c179e"
             ],
             [
              0.4444444444444444,
              "#bd3786"
             ],
             [
              0.5555555555555556,
              "#d8576b"
             ],
             [
              0.6666666666666666,
              "#ed7953"
             ],
             [
              0.7777777777777778,
              "#fb9f3a"
             ],
             [
              0.8888888888888888,
              "#fdca26"
             ],
             [
              1.0,
              "#f0f921"
             ]
            ],
            "type": "histogram2dcontour"
           }
          ],
          "mesh3d": [
           {
            "colorbar": {
             "outlinewidth": 0,
             "ticks": ""
            },
            "type": "mesh3d"
           }
          ],
          "parcoords": [
           {
            "line": {
             "colorbar": {
              "outlinewidth": 0,
              "ticks": ""
             }
            },
            "type": "parcoords"
           }
          ],
          "pie": [
           {
            "automargin": true,
            "type": "pie"
           }
          ],
          "scatter": [
           {
            "marker": {
             "line": {
              "color": "#283442"
             }
            },
            "type": "scatter"
           }
          ],
          "scatter3d": [
           {
            "line": {
             "colorbar": {
              "outlinewidth": 0,
              "ticks": ""
             }
            },
            "marker": {
             "colorbar": {
              "outlinewidth": 0,
              "ticks": ""
             }
            },
            "type": "scatter3d"
           }
          ],
          "scattercarpet": [
           {
            "marker": {
             "colorbar": {
              "outlinewidth": 0,
              "ticks": ""
             }
            },
            "type": "scattercarpet"
           }
          ],
          "scattergeo": [
           {
            "marker": {
             "colorbar": {
              "outlinewidth": 0,
              "ticks": ""
             }
            },
            "type": "scattergeo"
           }
          ],
          "scattergl": [
           {
            "marker": {
             "line": {
              "color": "#283442"
             }
            },
            "type": "scattergl"
           }
          ],
          "scattermapbox": [
           {
            "marker": {
             "colorbar": {
              "outlinewidth": 0,
              "ticks": ""
             }
            },
            "type": "scattermapbox"
           }
          ],
          "scatterpolar": [
           {
            "marker": {
             "colorbar": {
              "outlinewidth": 0,
              "ticks": ""
             }
            },
            "type": "scatterpolar"
           }
          ],
          "scatterpolargl": [
           {
            "marker": {
             "colorbar": {
              "outlinewidth": 0,
              "ticks": ""
             }
            },
            "type": "scatterpolargl"
           }
          ],
          "scatterternary": [
           {
            "marker": {
             "colorbar": {
              "outlinewidth": 0,
              "ticks": ""
             }
            },
            "type": "scatterternary"
           }
          ],
          "surface": [
           {
            "colorbar": {
             "outlinewidth": 0,
             "ticks": ""
            },
            "colorscale": [
             [
              0.0,
              "#0d0887"
             ],
             [
              0.1111111111111111,
              "#46039f"
             ],
             [
              0.2222222222222222,
              "#7201a8"
             ],
             [
              0.3333333333333333,
              "#9c179e"
             ],
             [
              0.4444444444444444,
              "#bd3786"
             ],
             [
              0.5555555555555556,
              "#d8576b"
             ],
             [
              0.6666666666666666,
              "#ed7953"
             ],
             [
              0.7777777777777778,
              "#fb9f3a"
             ],
             [
              0.8888888888888888,
              "#fdca26"
             ],
             [
              1.0,
              "#f0f921"
             ]
            ],
            "type": "surface"
           }
          ],
          "table": [
           {
            "cells": {
             "fill": {
              "color": "#506784"
             },
             "line": {
              "color": "rgb(17,17,17)"
             }
            },
            "header": {
             "fill": {
              "color": "#2a3f5f"
             },
             "line": {
              "color": "rgb(17,17,17)"
             }
            },
            "type": "table"
           }
          ]
         },
         "layout": {
          "annotationdefaults": {
           "arrowcolor": "#f2f5fa",
           "arrowhead": 0,
           "arrowwidth": 1
          },
          "autotypenumbers": "strict",
          "coloraxis": {
           "colorbar": {
            "outlinewidth": 0,
            "ticks": ""
           }
          },
          "colorscale": {
           "diverging": [
            [
             0,
             "#8e0152"
            ],
            [
             0.1,
             "#c51b7d"
            ],
            [
             0.2,
             "#de77ae"
            ],
            [
             0.3,
             "#f1b6da"
            ],
            [
             0.4,
             "#fde0ef"
            ],
            [
             0.5,
             "#f7f7f7"
            ],
            [
             0.6,
             "#e6f5d0"
            ],
            [
             0.7,
             "#b8e186"
            ],
            [
             0.8,
             "#7fbc41"
            ],
            [
             0.9,
             "#4d9221"
            ],
            [
             1,
             "#276419"
            ]
           ],
           "sequential": [
            [
             0.0,
             "#0d0887"
            ],
            [
             0.1111111111111111,
             "#46039f"
            ],
            [
             0.2222222222222222,
             "#7201a8"
            ],
            [
             0.3333333333333333,
             "#9c179e"
            ],
            [
             0.4444444444444444,
             "#bd3786"
            ],
            [
             0.5555555555555556,
             "#d8576b"
            ],
            [
             0.6666666666666666,
             "#ed7953"
            ],
            [
             0.7777777777777778,
             "#fb9f3a"
            ],
            [
             0.8888888888888888,
             "#fdca26"
            ],
            [
             1.0,
             "#f0f921"
            ]
           ],
           "sequentialminus": [
            [
             0.0,
             "#0d0887"
            ],
            [
             0.1111111111111111,
             "#46039f"
            ],
            [
             0.2222222222222222,
             "#7201a8"
            ],
            [
             0.3333333333333333,
             "#9c179e"
            ],
            [
             0.4444444444444444,
             "#bd3786"
            ],
            [
             0.5555555555555556,
             "#d8576b"
            ],
            [
             0.6666666666666666,
             "#ed7953"
            ],
            [
             0.7777777777777778,
             "#fb9f3a"
            ],
            [
             0.8888888888888888,
             "#fdca26"
            ],
            [
             1.0,
             "#f0f921"
            ]
           ]
          },
          "colorway": [
           "#636efa",
           "#EF553B",
           "#00cc96",
           "#ab63fa",
           "#FFA15A",
           "#19d3f3",
           "#FF6692",
           "#B6E880",
           "#FF97FF",
           "#FECB52"
          ],
          "font": {
           "color": "#f2f5fa"
          },
          "geo": {
           "bgcolor": "rgb(17,17,17)",
           "lakecolor": "rgb(17,17,17)",
           "landcolor": "rgb(17,17,17)",
           "showlakes": true,
           "showland": true,
           "subunitcolor": "#506784"
          },
          "hoverlabel": {
           "align": "left"
          },
          "hovermode": "closest",
          "mapbox": {
           "style": "dark"
          },
          "paper_bgcolor": "rgb(17,17,17)",
          "plot_bgcolor": "rgb(17,17,17)",
          "polar": {
           "angularaxis": {
            "gridcolor": "#506784",
            "linecolor": "#506784",
            "ticks": ""
           },
           "bgcolor": "rgb(17,17,17)",
           "radialaxis": {
            "gridcolor": "#506784",
            "linecolor": "#506784",
            "ticks": ""
           }
          },
          "scene": {
           "xaxis": {
            "backgroundcolor": "rgb(17,17,17)",
            "gridcolor": "#506784",
            "gridwidth": 2,
            "linecolor": "#506784",
            "showbackground": true,
            "ticks": "",
            "zerolinecolor": "#C8D4E3"
           },
           "yaxis": {
            "backgroundcolor": "rgb(17,17,17)",
            "gridcolor": "#506784",
            "gridwidth": 2,
            "linecolor": "#506784",
            "showbackground": true,
            "ticks": "",
            "zerolinecolor": "#C8D4E3"
           },
           "zaxis": {
            "backgroundcolor": "rgb(17,17,17)",
            "gridcolor": "#506784",
            "gridwidth": 2,
            "linecolor": "#506784",
            "showbackground": true,
            "ticks": "",
            "zerolinecolor": "#C8D4E3"
           }
          },
          "shapedefaults": {
           "line": {
            "color": "#f2f5fa"
           }
          },
          "sliderdefaults": {
           "bgcolor": "#C8D4E3",
           "bordercolor": "rgb(17,17,17)",
           "borderwidth": 1,
           "tickwidth": 0
          },
          "ternary": {
           "aaxis": {
            "gridcolor": "#506784",
            "linecolor": "#506784",
            "ticks": ""
           },
           "baxis": {
            "gridcolor": "#506784",
            "linecolor": "#506784",
            "ticks": ""
           },
           "bgcolor": "rgb(17,17,17)",
           "caxis": {
            "gridcolor": "#506784",
            "linecolor": "#506784",
            "ticks": ""
           }
          },
          "title": {
           "x": 0.05
          },
          "updatemenudefaults": {
           "bgcolor": "#506784",
           "borderwidth": 0
          },
          "xaxis": {
           "automargin": true,
           "gridcolor": "#283442",
           "linecolor": "#506784",
           "ticks": "",
           "title": {
            "standoff": 15
           },
           "zerolinecolor": "#283442",
           "zerolinewidth": 2
          },
          "yaxis": {
           "automargin": true,
           "gridcolor": "#283442",
           "linecolor": "#506784",
           "ticks": "",
           "title": {
            "standoff": 15
           },
           "zerolinecolor": "#283442",
           "zerolinewidth": 2
          }
         }
        }
       },
       "config": {
        "plotlyServerURL": "https://plot.ly"
       }
      },
      "text/html": "<div>                            <div id=\"8820a482-fa75-434d-9880-c4c15265eeb3\" class=\"plotly-graph-div\" style=\"height:525px; width:100%;\"></div>            <script type=\"text/javascript\">                require([\"plotly\"], function(Plotly) {                    window.PLOTLYENV=window.PLOTLYENV || {};                                    if (document.getElementById(\"8820a482-fa75-434d-9880-c4c15265eeb3\")) {                    Plotly.newPlot(                        \"8820a482-fa75-434d-9880-c4c15265eeb3\",                        [],                        {\"title\":{\"text\":\"Contour Plot\"},\"template\":{\"data\":{\"bar\":[{\"error_x\":{\"color\":\"#f2f5fa\"},\"error_y\":{\"color\":\"#f2f5fa\"},\"marker\":{\"line\":{\"color\":\"rgb(17,17,17)\",\"width\":0.5},\"pattern\":{\"fillmode\":\"overlay\",\"size\":10,\"solidity\":0.2}},\"type\":\"bar\"}],\"barpolar\":[{\"marker\":{\"line\":{\"color\":\"rgb(17,17,17)\",\"width\":0.5},\"pattern\":{\"fillmode\":\"overlay\",\"size\":10,\"solidity\":0.2}},\"type\":\"barpolar\"}],\"carpet\":[{\"aaxis\":{\"endlinecolor\":\"#A2B1C6\",\"gridcolor\":\"#506784\",\"linecolor\":\"#506784\",\"minorgridcolor\":\"#506784\",\"startlinecolor\":\"#A2B1C6\"},\"baxis\":{\"endlinecolor\":\"#A2B1C6\",\"gridcolor\":\"#506784\",\"linecolor\":\"#506784\",\"minorgridcolor\":\"#506784\",\"startlinecolor\":\"#A2B1C6\"},\"type\":\"carpet\"}],\"choropleth\":[{\"colorbar\":{\"outlinewidth\":0,\"ticks\":\"\"},\"type\":\"choropleth\"}],\"contour\":[{\"colorbar\":{\"outlinewidth\":0,\"ticks\":\"\"},\"colorscale\":[[0.0,\"#0d0887\"],[0.1111111111111111,\"#46039f\"],[0.2222222222222222,\"#7201a8\"],[0.3333333333333333,\"#9c179e\"],[0.4444444444444444,\"#bd3786\"],[0.5555555555555556,\"#d8576b\"],[0.6666666666666666,\"#ed7953\"],[0.7777777777777778,\"#fb9f3a\"],[0.8888888888888888,\"#fdca26\"],[1.0,\"#f0f921\"]],\"type\":\"contour\"}],\"contourcarpet\":[{\"colorbar\":{\"outlinewidth\":0,\"ticks\":\"\"},\"type\":\"contourcarpet\"}],\"heatmap\":[{\"colorbar\":{\"outlinewidth\":0,\"ticks\":\"\"},\"colorscale\":[[0.0,\"#0d0887\"],[0.1111111111111111,\"#46039f\"],[0.2222222222222222,\"#7201a8\"],[0.3333333333333333,\"#9c179e\"],[0.4444444444444444,\"#bd3786\"],[0.5555555555555556,\"#d8576b\"],[0.6666666666666666,\"#ed7953\"],[0.7777777777777778,\"#fb9f3a\"],[0.8888888888888888,\"#fdca26\"],[1.0,\"#f0f921\"]],\"type\":\"heatmap\"}],\"heatmapgl\":[{\"colorbar\":{\"outlinewidth\":0,\"ticks\":\"\"},\"colorscale\":[[0.0,\"#0d0887\"],[0.1111111111111111,\"#46039f\"],[0.2222222222222222,\"#7201a8\"],[0.3333333333333333,\"#9c179e\"],[0.4444444444444444,\"#bd3786\"],[0.5555555555555556,\"#d8576b\"],[0.6666666666666666,\"#ed7953\"],[0.7777777777777778,\"#fb9f3a\"],[0.8888888888888888,\"#fdca26\"],[1.0,\"#f0f921\"]],\"type\":\"heatmapgl\"}],\"histogram\":[{\"marker\":{\"pattern\":{\"fillmode\":\"overlay\",\"size\":10,\"solidity\":0.2}},\"type\":\"histogram\"}],\"histogram2d\":[{\"colorbar\":{\"outlinewidth\":0,\"ticks\":\"\"},\"colorscale\":[[0.0,\"#0d0887\"],[0.1111111111111111,\"#46039f\"],[0.2222222222222222,\"#7201a8\"],[0.3333333333333333,\"#9c179e\"],[0.4444444444444444,\"#bd3786\"],[0.5555555555555556,\"#d8576b\"],[0.6666666666666666,\"#ed7953\"],[0.7777777777777778,\"#fb9f3a\"],[0.8888888888888888,\"#fdca26\"],[1.0,\"#f0f921\"]],\"type\":\"histogram2d\"}],\"histogram2dcontour\":[{\"colorbar\":{\"outlinewidth\":0,\"ticks\":\"\"},\"colorscale\":[[0.0,\"#0d0887\"],[0.1111111111111111,\"#46039f\"],[0.2222222222222222,\"#7201a8\"],[0.3333333333333333,\"#9c179e\"],[0.4444444444444444,\"#bd3786\"],[0.5555555555555556,\"#d8576b\"],[0.6666666666666666,\"#ed7953\"],[0.7777777777777778,\"#fb9f3a\"],[0.8888888888888888,\"#fdca26\"],[1.0,\"#f0f921\"]],\"type\":\"histogram2dcontour\"}],\"mesh3d\":[{\"colorbar\":{\"outlinewidth\":0,\"ticks\":\"\"},\"type\":\"mesh3d\"}],\"parcoords\":[{\"line\":{\"colorbar\":{\"outlinewidth\":0,\"ticks\":\"\"}},\"type\":\"parcoords\"}],\"pie\":[{\"automargin\":true,\"type\":\"pie\"}],\"scatter\":[{\"marker\":{\"line\":{\"color\":\"#283442\"}},\"type\":\"scatter\"}],\"scatter3d\":[{\"line\":{\"colorbar\":{\"outlinewidth\":0,\"ticks\":\"\"}},\"marker\":{\"colorbar\":{\"outlinewidth\":0,\"ticks\":\"\"}},\"type\":\"scatter3d\"}],\"scattercarpet\":[{\"marker\":{\"colorbar\":{\"outlinewidth\":0,\"ticks\":\"\"}},\"type\":\"scattercarpet\"}],\"scattergeo\":[{\"marker\":{\"colorbar\":{\"outlinewidth\":0,\"ticks\":\"\"}},\"type\":\"scattergeo\"}],\"scattergl\":[{\"marker\":{\"line\":{\"color\":\"#283442\"}},\"type\":\"scattergl\"}],\"scattermapbox\":[{\"marker\":{\"colorbar\":{\"outlinewidth\":0,\"ticks\":\"\"}},\"type\":\"scattermapbox\"}],\"scatterpolar\":[{\"marker\":{\"colorbar\":{\"outlinewidth\":0,\"ticks\":\"\"}},\"type\":\"scatterpolar\"}],\"scatterpolargl\":[{\"marker\":{\"colorbar\":{\"outlinewidth\":0,\"ticks\":\"\"}},\"type\":\"scatterpolargl\"}],\"scatterternary\":[{\"marker\":{\"colorbar\":{\"outlinewidth\":0,\"ticks\":\"\"}},\"type\":\"scatterternary\"}],\"surface\":[{\"colorbar\":{\"outlinewidth\":0,\"ticks\":\"\"},\"colorscale\":[[0.0,\"#0d0887\"],[0.1111111111111111,\"#46039f\"],[0.2222222222222222,\"#7201a8\"],[0.3333333333333333,\"#9c179e\"],[0.4444444444444444,\"#bd3786\"],[0.5555555555555556,\"#d8576b\"],[0.6666666666666666,\"#ed7953\"],[0.7777777777777778,\"#fb9f3a\"],[0.8888888888888888,\"#fdca26\"],[1.0,\"#f0f921\"]],\"type\":\"surface\"}],\"table\":[{\"cells\":{\"fill\":{\"color\":\"#506784\"},\"line\":{\"color\":\"rgb(17,17,17)\"}},\"header\":{\"fill\":{\"color\":\"#2a3f5f\"},\"line\":{\"color\":\"rgb(17,17,17)\"}},\"type\":\"table\"}]},\"layout\":{\"annotationdefaults\":{\"arrowcolor\":\"#f2f5fa\",\"arrowhead\":0,\"arrowwidth\":1},\"autotypenumbers\":\"strict\",\"coloraxis\":{\"colorbar\":{\"outlinewidth\":0,\"ticks\":\"\"}},\"colorscale\":{\"diverging\":[[0,\"#8e0152\"],[0.1,\"#c51b7d\"],[0.2,\"#de77ae\"],[0.3,\"#f1b6da\"],[0.4,\"#fde0ef\"],[0.5,\"#f7f7f7\"],[0.6,\"#e6f5d0\"],[0.7,\"#b8e186\"],[0.8,\"#7fbc41\"],[0.9,\"#4d9221\"],[1,\"#276419\"]],\"sequential\":[[0.0,\"#0d0887\"],[0.1111111111111111,\"#46039f\"],[0.2222222222222222,\"#7201a8\"],[0.3333333333333333,\"#9c179e\"],[0.4444444444444444,\"#bd3786\"],[0.5555555555555556,\"#d8576b\"],[0.6666666666666666,\"#ed7953\"],[0.7777777777777778,\"#fb9f3a\"],[0.8888888888888888,\"#fdca26\"],[1.0,\"#f0f921\"]],\"sequentialminus\":[[0.0,\"#0d0887\"],[0.1111111111111111,\"#46039f\"],[0.2222222222222222,\"#7201a8\"],[0.3333333333333333,\"#9c179e\"],[0.4444444444444444,\"#bd3786\"],[0.5555555555555556,\"#d8576b\"],[0.6666666666666666,\"#ed7953\"],[0.7777777777777778,\"#fb9f3a\"],[0.8888888888888888,\"#fdca26\"],[1.0,\"#f0f921\"]]},\"colorway\":[\"#636efa\",\"#EF553B\",\"#00cc96\",\"#ab63fa\",\"#FFA15A\",\"#19d3f3\",\"#FF6692\",\"#B6E880\",\"#FF97FF\",\"#FECB52\"],\"font\":{\"color\":\"#f2f5fa\"},\"geo\":{\"bgcolor\":\"rgb(17,17,17)\",\"lakecolor\":\"rgb(17,17,17)\",\"landcolor\":\"rgb(17,17,17)\",\"showlakes\":true,\"showland\":true,\"subunitcolor\":\"#506784\"},\"hoverlabel\":{\"align\":\"left\"},\"hovermode\":\"closest\",\"mapbox\":{\"style\":\"dark\"},\"paper_bgcolor\":\"rgb(17,17,17)\",\"plot_bgcolor\":\"rgb(17,17,17)\",\"polar\":{\"angularaxis\":{\"gridcolor\":\"#506784\",\"linecolor\":\"#506784\",\"ticks\":\"\"},\"bgcolor\":\"rgb(17,17,17)\",\"radialaxis\":{\"gridcolor\":\"#506784\",\"linecolor\":\"#506784\",\"ticks\":\"\"}},\"scene\":{\"xaxis\":{\"backgroundcolor\":\"rgb(17,17,17)\",\"gridcolor\":\"#506784\",\"gridwidth\":2,\"linecolor\":\"#506784\",\"showbackground\":true,\"ticks\":\"\",\"zerolinecolor\":\"#C8D4E3\"},\"yaxis\":{\"backgroundcolor\":\"rgb(17,17,17)\",\"gridcolor\":\"#506784\",\"gridwidth\":2,\"linecolor\":\"#506784\",\"showbackground\":true,\"ticks\":\"\",\"zerolinecolor\":\"#C8D4E3\"},\"zaxis\":{\"backgroundcolor\":\"rgb(17,17,17)\",\"gridcolor\":\"#506784\",\"gridwidth\":2,\"linecolor\":\"#506784\",\"showbackground\":true,\"ticks\":\"\",\"zerolinecolor\":\"#C8D4E3\"}},\"shapedefaults\":{\"line\":{\"color\":\"#f2f5fa\"}},\"sliderdefaults\":{\"bgcolor\":\"#C8D4E3\",\"bordercolor\":\"rgb(17,17,17)\",\"borderwidth\":1,\"tickwidth\":0},\"ternary\":{\"aaxis\":{\"gridcolor\":\"#506784\",\"linecolor\":\"#506784\",\"ticks\":\"\"},\"baxis\":{\"gridcolor\":\"#506784\",\"linecolor\":\"#506784\",\"ticks\":\"\"},\"bgcolor\":\"rgb(17,17,17)\",\"caxis\":{\"gridcolor\":\"#506784\",\"linecolor\":\"#506784\",\"ticks\":\"\"}},\"title\":{\"x\":0.05},\"updatemenudefaults\":{\"bgcolor\":\"#506784\",\"borderwidth\":0},\"xaxis\":{\"automargin\":true,\"gridcolor\":\"#283442\",\"linecolor\":\"#506784\",\"ticks\":\"\",\"title\":{\"standoff\":15},\"zerolinecolor\":\"#283442\",\"zerolinewidth\":2},\"yaxis\":{\"automargin\":true,\"gridcolor\":\"#283442\",\"linecolor\":\"#506784\",\"ticks\":\"\",\"title\":{\"standoff\":15},\"zerolinecolor\":\"#283442\",\"zerolinewidth\":2}}}},                        {\"responsive\": true}                    ).then(function(){\n                            \nvar gd = document.getElementById('8820a482-fa75-434d-9880-c4c15265eeb3');\nvar x = new MutationObserver(function (mutations, observer) {{\n        var display = window.getComputedStyle(gd).display;\n        if (!display || display === 'none') {{\n            console.log([gd, 'removed!']);\n            Plotly.purge(gd);\n            observer.disconnect();\n        }}\n}});\n\n// Listen for the removal of the full notebook cells\nvar notebookContainer = gd.closest('#notebook-container');\nif (notebookContainer) {{\n    x.observe(notebookContainer, {childList: true});\n}}\n\n// Listen for the clearing of the current output cell\nvar outputEl = gd.closest('.output');\nif (outputEl) {{\n    x.observe(outputEl, {childList: true});\n}}\n\n                        })                };                });            </script>        </div>"
     },
     "metadata": {},
     "output_type": "display_data"
    },
    {
     "data": {
      "application/vnd.plotly.v1+json": {
       "data": [
        {
         "cliponaxis": false,
         "hovertemplate": [
          "x (UniformDistribution): 1.0<extra></extra>"
         ],
         "marker": {
          "color": "rgb(66,146,198)"
         },
         "orientation": "h",
         "text": [
          "1.0"
         ],
         "textposition": "outside",
         "texttemplate": "%{text:.2f}",
         "x": [
          1.0
         ],
         "y": [
          "x"
         ],
         "type": "bar"
        }
       ],
       "layout": {
        "showlegend": false,
        "title": {
         "text": "Hyperparameter Importances"
        },
        "xaxis": {
         "title": {
          "text": "Importance for Objective Value"
         }
        },
        "yaxis": {
         "title": {
          "text": "Hyperparameter"
         }
        },
        "template": {
         "data": {
          "bar": [
           {
            "error_x": {
             "color": "#f2f5fa"
            },
            "error_y": {
             "color": "#f2f5fa"
            },
            "marker": {
             "line": {
              "color": "rgb(17,17,17)",
              "width": 0.5
             },
             "pattern": {
              "fillmode": "overlay",
              "size": 10,
              "solidity": 0.2
             }
            },
            "type": "bar"
           }
          ],
          "barpolar": [
           {
            "marker": {
             "line": {
              "color": "rgb(17,17,17)",
              "width": 0.5
             },
             "pattern": {
              "fillmode": "overlay",
              "size": 10,
              "solidity": 0.2
             }
            },
            "type": "barpolar"
           }
          ],
          "carpet": [
           {
            "aaxis": {
             "endlinecolor": "#A2B1C6",
             "gridcolor": "#506784",
             "linecolor": "#506784",
             "minorgridcolor": "#506784",
             "startlinecolor": "#A2B1C6"
            },
            "baxis": {
             "endlinecolor": "#A2B1C6",
             "gridcolor": "#506784",
             "linecolor": "#506784",
             "minorgridcolor": "#506784",
             "startlinecolor": "#A2B1C6"
            },
            "type": "carpet"
           }
          ],
          "choropleth": [
           {
            "colorbar": {
             "outlinewidth": 0,
             "ticks": ""
            },
            "type": "choropleth"
           }
          ],
          "contour": [
           {
            "colorbar": {
             "outlinewidth": 0,
             "ticks": ""
            },
            "colorscale": [
             [
              0.0,
              "#0d0887"
             ],
             [
              0.1111111111111111,
              "#46039f"
             ],
             [
              0.2222222222222222,
              "#7201a8"
             ],
             [
              0.3333333333333333,
              "#9c179e"
             ],
             [
              0.4444444444444444,
              "#bd3786"
             ],
             [
              0.5555555555555556,
              "#d8576b"
             ],
             [
              0.6666666666666666,
              "#ed7953"
             ],
             [
              0.7777777777777778,
              "#fb9f3a"
             ],
             [
              0.8888888888888888,
              "#fdca26"
             ],
             [
              1.0,
              "#f0f921"
             ]
            ],
            "type": "contour"
           }
          ],
          "contourcarpet": [
           {
            "colorbar": {
             "outlinewidth": 0,
             "ticks": ""
            },
            "type": "contourcarpet"
           }
          ],
          "heatmap": [
           {
            "colorbar": {
             "outlinewidth": 0,
             "ticks": ""
            },
            "colorscale": [
             [
              0.0,
              "#0d0887"
             ],
             [
              0.1111111111111111,
              "#46039f"
             ],
             [
              0.2222222222222222,
              "#7201a8"
             ],
             [
              0.3333333333333333,
              "#9c179e"
             ],
             [
              0.4444444444444444,
              "#bd3786"
             ],
             [
              0.5555555555555556,
              "#d8576b"
             ],
             [
              0.6666666666666666,
              "#ed7953"
             ],
             [
              0.7777777777777778,
              "#fb9f3a"
             ],
             [
              0.8888888888888888,
              "#fdca26"
             ],
             [
              1.0,
              "#f0f921"
             ]
            ],
            "type": "heatmap"
           }
          ],
          "heatmapgl": [
           {
            "colorbar": {
             "outlinewidth": 0,
             "ticks": ""
            },
            "colorscale": [
             [
              0.0,
              "#0d0887"
             ],
             [
              0.1111111111111111,
              "#46039f"
             ],
             [
              0.2222222222222222,
              "#7201a8"
             ],
             [
              0.3333333333333333,
              "#9c179e"
             ],
             [
              0.4444444444444444,
              "#bd3786"
             ],
             [
              0.5555555555555556,
              "#d8576b"
             ],
             [
              0.6666666666666666,
              "#ed7953"
             ],
             [
              0.7777777777777778,
              "#fb9f3a"
             ],
             [
              0.8888888888888888,
              "#fdca26"
             ],
             [
              1.0,
              "#f0f921"
             ]
            ],
            "type": "heatmapgl"
           }
          ],
          "histogram": [
           {
            "marker": {
             "pattern": {
              "fillmode": "overlay",
              "size": 10,
              "solidity": 0.2
             }
            },
            "type": "histogram"
           }
          ],
          "histogram2d": [
           {
            "colorbar": {
             "outlinewidth": 0,
             "ticks": ""
            },
            "colorscale": [
             [
              0.0,
              "#0d0887"
             ],
             [
              0.1111111111111111,
              "#46039f"
             ],
             [
              0.2222222222222222,
              "#7201a8"
             ],
             [
              0.3333333333333333,
              "#9c179e"
             ],
             [
              0.4444444444444444,
              "#bd3786"
             ],
             [
              0.5555555555555556,
              "#d8576b"
             ],
             [
              0.6666666666666666,
              "#ed7953"
             ],
             [
              0.7777777777777778,
              "#fb9f3a"
             ],
             [
              0.8888888888888888,
              "#fdca26"
             ],
             [
              1.0,
              "#f0f921"
             ]
            ],
            "type": "histogram2d"
           }
          ],
          "histogram2dcontour": [
           {
            "colorbar": {
             "outlinewidth": 0,
             "ticks": ""
            },
            "colorscale": [
             [
              0.0,
              "#0d0887"
             ],
             [
              0.1111111111111111,
              "#46039f"
             ],
             [
              0.2222222222222222,
              "#7201a8"
             ],
             [
              0.3333333333333333,
              "#9c179e"
             ],
             [
              0.4444444444444444,
              "#bd3786"
             ],
             [
              0.5555555555555556,
              "#d8576b"
             ],
             [
              0.6666666666666666,
              "#ed7953"
             ],
             [
              0.7777777777777778,
              "#fb9f3a"
             ],
             [
              0.8888888888888888,
              "#fdca26"
             ],
             [
              1.0,
              "#f0f921"
             ]
            ],
            "type": "histogram2dcontour"
           }
          ],
          "mesh3d": [
           {
            "colorbar": {
             "outlinewidth": 0,
             "ticks": ""
            },
            "type": "mesh3d"
           }
          ],
          "parcoords": [
           {
            "line": {
             "colorbar": {
              "outlinewidth": 0,
              "ticks": ""
             }
            },
            "type": "parcoords"
           }
          ],
          "pie": [
           {
            "automargin": true,
            "type": "pie"
           }
          ],
          "scatter": [
           {
            "marker": {
             "line": {
              "color": "#283442"
             }
            },
            "type": "scatter"
           }
          ],
          "scatter3d": [
           {
            "line": {
             "colorbar": {
              "outlinewidth": 0,
              "ticks": ""
             }
            },
            "marker": {
             "colorbar": {
              "outlinewidth": 0,
              "ticks": ""
             }
            },
            "type": "scatter3d"
           }
          ],
          "scattercarpet": [
           {
            "marker": {
             "colorbar": {
              "outlinewidth": 0,
              "ticks": ""
             }
            },
            "type": "scattercarpet"
           }
          ],
          "scattergeo": [
           {
            "marker": {
             "colorbar": {
              "outlinewidth": 0,
              "ticks": ""
             }
            },
            "type": "scattergeo"
           }
          ],
          "scattergl": [
           {
            "marker": {
             "line": {
              "color": "#283442"
             }
            },
            "type": "scattergl"
           }
          ],
          "scattermapbox": [
           {
            "marker": {
             "colorbar": {
              "outlinewidth": 0,
              "ticks": ""
             }
            },
            "type": "scattermapbox"
           }
          ],
          "scatterpolar": [
           {
            "marker": {
             "colorbar": {
              "outlinewidth": 0,
              "ticks": ""
             }
            },
            "type": "scatterpolar"
           }
          ],
          "scatterpolargl": [
           {
            "marker": {
             "colorbar": {
              "outlinewidth": 0,
              "ticks": ""
             }
            },
            "type": "scatterpolargl"
           }
          ],
          "scatterternary": [
           {
            "marker": {
             "colorbar": {
              "outlinewidth": 0,
              "ticks": ""
             }
            },
            "type": "scatterternary"
           }
          ],
          "surface": [
           {
            "colorbar": {
             "outlinewidth": 0,
             "ticks": ""
            },
            "colorscale": [
             [
              0.0,
              "#0d0887"
             ],
             [
              0.1111111111111111,
              "#46039f"
             ],
             [
              0.2222222222222222,
              "#7201a8"
             ],
             [
              0.3333333333333333,
              "#9c179e"
             ],
             [
              0.4444444444444444,
              "#bd3786"
             ],
             [
              0.5555555555555556,
              "#d8576b"
             ],
             [
              0.6666666666666666,
              "#ed7953"
             ],
             [
              0.7777777777777778,
              "#fb9f3a"
             ],
             [
              0.8888888888888888,
              "#fdca26"
             ],
             [
              1.0,
              "#f0f921"
             ]
            ],
            "type": "surface"
           }
          ],
          "table": [
           {
            "cells": {
             "fill": {
              "color": "#506784"
             },
             "line": {
              "color": "rgb(17,17,17)"
             }
            },
            "header": {
             "fill": {
              "color": "#2a3f5f"
             },
             "line": {
              "color": "rgb(17,17,17)"
             }
            },
            "type": "table"
           }
          ]
         },
         "layout": {
          "annotationdefaults": {
           "arrowcolor": "#f2f5fa",
           "arrowhead": 0,
           "arrowwidth": 1
          },
          "autotypenumbers": "strict",
          "coloraxis": {
           "colorbar": {
            "outlinewidth": 0,
            "ticks": ""
           }
          },
          "colorscale": {
           "diverging": [
            [
             0,
             "#8e0152"
            ],
            [
             0.1,
             "#c51b7d"
            ],
            [
             0.2,
             "#de77ae"
            ],
            [
             0.3,
             "#f1b6da"
            ],
            [
             0.4,
             "#fde0ef"
            ],
            [
             0.5,
             "#f7f7f7"
            ],
            [
             0.6,
             "#e6f5d0"
            ],
            [
             0.7,
             "#b8e186"
            ],
            [
             0.8,
             "#7fbc41"
            ],
            [
             0.9,
             "#4d9221"
            ],
            [
             1,
             "#276419"
            ]
           ],
           "sequential": [
            [
             0.0,
             "#0d0887"
            ],
            [
             0.1111111111111111,
             "#46039f"
            ],
            [
             0.2222222222222222,
             "#7201a8"
            ],
            [
             0.3333333333333333,
             "#9c179e"
            ],
            [
             0.4444444444444444,
             "#bd3786"
            ],
            [
             0.5555555555555556,
             "#d8576b"
            ],
            [
             0.6666666666666666,
             "#ed7953"
            ],
            [
             0.7777777777777778,
             "#fb9f3a"
            ],
            [
             0.8888888888888888,
             "#fdca26"
            ],
            [
             1.0,
             "#f0f921"
            ]
           ],
           "sequentialminus": [
            [
             0.0,
             "#0d0887"
            ],
            [
             0.1111111111111111,
             "#46039f"
            ],
            [
             0.2222222222222222,
             "#7201a8"
            ],
            [
             0.3333333333333333,
             "#9c179e"
            ],
            [
             0.4444444444444444,
             "#bd3786"
            ],
            [
             0.5555555555555556,
             "#d8576b"
            ],
            [
             0.6666666666666666,
             "#ed7953"
            ],
            [
             0.7777777777777778,
             "#fb9f3a"
            ],
            [
             0.8888888888888888,
             "#fdca26"
            ],
            [
             1.0,
             "#f0f921"
            ]
           ]
          },
          "colorway": [
           "#636efa",
           "#EF553B",
           "#00cc96",
           "#ab63fa",
           "#FFA15A",
           "#19d3f3",
           "#FF6692",
           "#B6E880",
           "#FF97FF",
           "#FECB52"
          ],
          "font": {
           "color": "#f2f5fa"
          },
          "geo": {
           "bgcolor": "rgb(17,17,17)",
           "lakecolor": "rgb(17,17,17)",
           "landcolor": "rgb(17,17,17)",
           "showlakes": true,
           "showland": true,
           "subunitcolor": "#506784"
          },
          "hoverlabel": {
           "align": "left"
          },
          "hovermode": "closest",
          "mapbox": {
           "style": "dark"
          },
          "paper_bgcolor": "rgb(17,17,17)",
          "plot_bgcolor": "rgb(17,17,17)",
          "polar": {
           "angularaxis": {
            "gridcolor": "#506784",
            "linecolor": "#506784",
            "ticks": ""
           },
           "bgcolor": "rgb(17,17,17)",
           "radialaxis": {
            "gridcolor": "#506784",
            "linecolor": "#506784",
            "ticks": ""
           }
          },
          "scene": {
           "xaxis": {
            "backgroundcolor": "rgb(17,17,17)",
            "gridcolor": "#506784",
            "gridwidth": 2,
            "linecolor": "#506784",
            "showbackground": true,
            "ticks": "",
            "zerolinecolor": "#C8D4E3"
           },
           "yaxis": {
            "backgroundcolor": "rgb(17,17,17)",
            "gridcolor": "#506784",
            "gridwidth": 2,
            "linecolor": "#506784",
            "showbackground": true,
            "ticks": "",
            "zerolinecolor": "#C8D4E3"
           },
           "zaxis": {
            "backgroundcolor": "rgb(17,17,17)",
            "gridcolor": "#506784",
            "gridwidth": 2,
            "linecolor": "#506784",
            "showbackground": true,
            "ticks": "",
            "zerolinecolor": "#C8D4E3"
           }
          },
          "shapedefaults": {
           "line": {
            "color": "#f2f5fa"
           }
          },
          "sliderdefaults": {
           "bgcolor": "#C8D4E3",
           "bordercolor": "rgb(17,17,17)",
           "borderwidth": 1,
           "tickwidth": 0
          },
          "ternary": {
           "aaxis": {
            "gridcolor": "#506784",
            "linecolor": "#506784",
            "ticks": ""
           },
           "baxis": {
            "gridcolor": "#506784",
            "linecolor": "#506784",
            "ticks": ""
           },
           "bgcolor": "rgb(17,17,17)",
           "caxis": {
            "gridcolor": "#506784",
            "linecolor": "#506784",
            "ticks": ""
           }
          },
          "title": {
           "x": 0.05
          },
          "updatemenudefaults": {
           "bgcolor": "#506784",
           "borderwidth": 0
          },
          "xaxis": {
           "automargin": true,
           "gridcolor": "#283442",
           "linecolor": "#506784",
           "ticks": "",
           "title": {
            "standoff": 15
           },
           "zerolinecolor": "#283442",
           "zerolinewidth": 2
          },
          "yaxis": {
           "automargin": true,
           "gridcolor": "#283442",
           "linecolor": "#506784",
           "ticks": "",
           "title": {
            "standoff": 15
           },
           "zerolinecolor": "#283442",
           "zerolinewidth": 2
          }
         }
        }
       },
       "config": {
        "plotlyServerURL": "https://plot.ly"
       }
      },
      "text/html": "<div>                            <div id=\"6b7fde3f-92b5-4bb2-8145-a4683c67ee88\" class=\"plotly-graph-div\" style=\"height:525px; width:100%;\"></div>            <script type=\"text/javascript\">                require([\"plotly\"], function(Plotly) {                    window.PLOTLYENV=window.PLOTLYENV || {};                                    if (document.getElementById(\"6b7fde3f-92b5-4bb2-8145-a4683c67ee88\")) {                    Plotly.newPlot(                        \"6b7fde3f-92b5-4bb2-8145-a4683c67ee88\",                        [{\"cliponaxis\":false,\"hovertemplate\":[\"x (UniformDistribution): 1.0<extra></extra>\"],\"marker\":{\"color\":\"rgb(66,146,198)\"},\"orientation\":\"h\",\"text\":[\"1.0\"],\"textposition\":\"outside\",\"texttemplate\":\"%{text:.2f}\",\"x\":[1.0],\"y\":[\"x\"],\"type\":\"bar\"}],                        {\"showlegend\":false,\"title\":{\"text\":\"Hyperparameter Importances\"},\"xaxis\":{\"title\":{\"text\":\"Importance for Objective Value\"}},\"yaxis\":{\"title\":{\"text\":\"Hyperparameter\"}},\"template\":{\"data\":{\"bar\":[{\"error_x\":{\"color\":\"#f2f5fa\"},\"error_y\":{\"color\":\"#f2f5fa\"},\"marker\":{\"line\":{\"color\":\"rgb(17,17,17)\",\"width\":0.5},\"pattern\":{\"fillmode\":\"overlay\",\"size\":10,\"solidity\":0.2}},\"type\":\"bar\"}],\"barpolar\":[{\"marker\":{\"line\":{\"color\":\"rgb(17,17,17)\",\"width\":0.5},\"pattern\":{\"fillmode\":\"overlay\",\"size\":10,\"solidity\":0.2}},\"type\":\"barpolar\"}],\"carpet\":[{\"aaxis\":{\"endlinecolor\":\"#A2B1C6\",\"gridcolor\":\"#506784\",\"linecolor\":\"#506784\",\"minorgridcolor\":\"#506784\",\"startlinecolor\":\"#A2B1C6\"},\"baxis\":{\"endlinecolor\":\"#A2B1C6\",\"gridcolor\":\"#506784\",\"linecolor\":\"#506784\",\"minorgridcolor\":\"#506784\",\"startlinecolor\":\"#A2B1C6\"},\"type\":\"carpet\"}],\"choropleth\":[{\"colorbar\":{\"outlinewidth\":0,\"ticks\":\"\"},\"type\":\"choropleth\"}],\"contour\":[{\"colorbar\":{\"outlinewidth\":0,\"ticks\":\"\"},\"colorscale\":[[0.0,\"#0d0887\"],[0.1111111111111111,\"#46039f\"],[0.2222222222222222,\"#7201a8\"],[0.3333333333333333,\"#9c179e\"],[0.4444444444444444,\"#bd3786\"],[0.5555555555555556,\"#d8576b\"],[0.6666666666666666,\"#ed7953\"],[0.7777777777777778,\"#fb9f3a\"],[0.8888888888888888,\"#fdca26\"],[1.0,\"#f0f921\"]],\"type\":\"contour\"}],\"contourcarpet\":[{\"colorbar\":{\"outlinewidth\":0,\"ticks\":\"\"},\"type\":\"contourcarpet\"}],\"heatmap\":[{\"colorbar\":{\"outlinewidth\":0,\"ticks\":\"\"},\"colorscale\":[[0.0,\"#0d0887\"],[0.1111111111111111,\"#46039f\"],[0.2222222222222222,\"#7201a8\"],[0.3333333333333333,\"#9c179e\"],[0.4444444444444444,\"#bd3786\"],[0.5555555555555556,\"#d8576b\"],[0.6666666666666666,\"#ed7953\"],[0.7777777777777778,\"#fb9f3a\"],[0.8888888888888888,\"#fdca26\"],[1.0,\"#f0f921\"]],\"type\":\"heatmap\"}],\"heatmapgl\":[{\"colorbar\":{\"outlinewidth\":0,\"ticks\":\"\"},\"colorscale\":[[0.0,\"#0d0887\"],[0.1111111111111111,\"#46039f\"],[0.2222222222222222,\"#7201a8\"],[0.3333333333333333,\"#9c179e\"],[0.4444444444444444,\"#bd3786\"],[0.5555555555555556,\"#d8576b\"],[0.6666666666666666,\"#ed7953\"],[0.7777777777777778,\"#fb9f3a\"],[0.8888888888888888,\"#fdca26\"],[1.0,\"#f0f921\"]],\"type\":\"heatmapgl\"}],\"histogram\":[{\"marker\":{\"pattern\":{\"fillmode\":\"overlay\",\"size\":10,\"solidity\":0.2}},\"type\":\"histogram\"}],\"histogram2d\":[{\"colorbar\":{\"outlinewidth\":0,\"ticks\":\"\"},\"colorscale\":[[0.0,\"#0d0887\"],[0.1111111111111111,\"#46039f\"],[0.2222222222222222,\"#7201a8\"],[0.3333333333333333,\"#9c179e\"],[0.4444444444444444,\"#bd3786\"],[0.5555555555555556,\"#d8576b\"],[0.6666666666666666,\"#ed7953\"],[0.7777777777777778,\"#fb9f3a\"],[0.8888888888888888,\"#fdca26\"],[1.0,\"#f0f921\"]],\"type\":\"histogram2d\"}],\"histogram2dcontour\":[{\"colorbar\":{\"outlinewidth\":0,\"ticks\":\"\"},\"colorscale\":[[0.0,\"#0d0887\"],[0.1111111111111111,\"#46039f\"],[0.2222222222222222,\"#7201a8\"],[0.3333333333333333,\"#9c179e\"],[0.4444444444444444,\"#bd3786\"],[0.5555555555555556,\"#d8576b\"],[0.6666666666666666,\"#ed7953\"],[0.7777777777777778,\"#fb9f3a\"],[0.8888888888888888,\"#fdca26\"],[1.0,\"#f0f921\"]],\"type\":\"histogram2dcontour\"}],\"mesh3d\":[{\"colorbar\":{\"outlinewidth\":0,\"ticks\":\"\"},\"type\":\"mesh3d\"}],\"parcoords\":[{\"line\":{\"colorbar\":{\"outlinewidth\":0,\"ticks\":\"\"}},\"type\":\"parcoords\"}],\"pie\":[{\"automargin\":true,\"type\":\"pie\"}],\"scatter\":[{\"marker\":{\"line\":{\"color\":\"#283442\"}},\"type\":\"scatter\"}],\"scatter3d\":[{\"line\":{\"colorbar\":{\"outlinewidth\":0,\"ticks\":\"\"}},\"marker\":{\"colorbar\":{\"outlinewidth\":0,\"ticks\":\"\"}},\"type\":\"scatter3d\"}],\"scattercarpet\":[{\"marker\":{\"colorbar\":{\"outlinewidth\":0,\"ticks\":\"\"}},\"type\":\"scattercarpet\"}],\"scattergeo\":[{\"marker\":{\"colorbar\":{\"outlinewidth\":0,\"ticks\":\"\"}},\"type\":\"scattergeo\"}],\"scattergl\":[{\"marker\":{\"line\":{\"color\":\"#283442\"}},\"type\":\"scattergl\"}],\"scattermapbox\":[{\"marker\":{\"colorbar\":{\"outlinewidth\":0,\"ticks\":\"\"}},\"type\":\"scattermapbox\"}],\"scatterpolar\":[{\"marker\":{\"colorbar\":{\"outlinewidth\":0,\"ticks\":\"\"}},\"type\":\"scatterpolar\"}],\"scatterpolargl\":[{\"marker\":{\"colorbar\":{\"outlinewidth\":0,\"ticks\":\"\"}},\"type\":\"scatterpolargl\"}],\"scatterternary\":[{\"marker\":{\"colorbar\":{\"outlinewidth\":0,\"ticks\":\"\"}},\"type\":\"scatterternary\"}],\"surface\":[{\"colorbar\":{\"outlinewidth\":0,\"ticks\":\"\"},\"colorscale\":[[0.0,\"#0d0887\"],[0.1111111111111111,\"#46039f\"],[0.2222222222222222,\"#7201a8\"],[0.3333333333333333,\"#9c179e\"],[0.4444444444444444,\"#bd3786\"],[0.5555555555555556,\"#d8576b\"],[0.6666666666666666,\"#ed7953\"],[0.7777777777777778,\"#fb9f3a\"],[0.8888888888888888,\"#fdca26\"],[1.0,\"#f0f921\"]],\"type\":\"surface\"}],\"table\":[{\"cells\":{\"fill\":{\"color\":\"#506784\"},\"line\":{\"color\":\"rgb(17,17,17)\"}},\"header\":{\"fill\":{\"color\":\"#2a3f5f\"},\"line\":{\"color\":\"rgb(17,17,17)\"}},\"type\":\"table\"}]},\"layout\":{\"annotationdefaults\":{\"arrowcolor\":\"#f2f5fa\",\"arrowhead\":0,\"arrowwidth\":1},\"autotypenumbers\":\"strict\",\"coloraxis\":{\"colorbar\":{\"outlinewidth\":0,\"ticks\":\"\"}},\"colorscale\":{\"diverging\":[[0,\"#8e0152\"],[0.1,\"#c51b7d\"],[0.2,\"#de77ae\"],[0.3,\"#f1b6da\"],[0.4,\"#fde0ef\"],[0.5,\"#f7f7f7\"],[0.6,\"#e6f5d0\"],[0.7,\"#b8e186\"],[0.8,\"#7fbc41\"],[0.9,\"#4d9221\"],[1,\"#276419\"]],\"sequential\":[[0.0,\"#0d0887\"],[0.1111111111111111,\"#46039f\"],[0.2222222222222222,\"#7201a8\"],[0.3333333333333333,\"#9c179e\"],[0.4444444444444444,\"#bd3786\"],[0.5555555555555556,\"#d8576b\"],[0.6666666666666666,\"#ed7953\"],[0.7777777777777778,\"#fb9f3a\"],[0.8888888888888888,\"#fdca26\"],[1.0,\"#f0f921\"]],\"sequentialminus\":[[0.0,\"#0d0887\"],[0.1111111111111111,\"#46039f\"],[0.2222222222222222,\"#7201a8\"],[0.3333333333333333,\"#9c179e\"],[0.4444444444444444,\"#bd3786\"],[0.5555555555555556,\"#d8576b\"],[0.6666666666666666,\"#ed7953\"],[0.7777777777777778,\"#fb9f3a\"],[0.8888888888888888,\"#fdca26\"],[1.0,\"#f0f921\"]]},\"colorway\":[\"#636efa\",\"#EF553B\",\"#00cc96\",\"#ab63fa\",\"#FFA15A\",\"#19d3f3\",\"#FF6692\",\"#B6E880\",\"#FF97FF\",\"#FECB52\"],\"font\":{\"color\":\"#f2f5fa\"},\"geo\":{\"bgcolor\":\"rgb(17,17,17)\",\"lakecolor\":\"rgb(17,17,17)\",\"landcolor\":\"rgb(17,17,17)\",\"showlakes\":true,\"showland\":true,\"subunitcolor\":\"#506784\"},\"hoverlabel\":{\"align\":\"left\"},\"hovermode\":\"closest\",\"mapbox\":{\"style\":\"dark\"},\"paper_bgcolor\":\"rgb(17,17,17)\",\"plot_bgcolor\":\"rgb(17,17,17)\",\"polar\":{\"angularaxis\":{\"gridcolor\":\"#506784\",\"linecolor\":\"#506784\",\"ticks\":\"\"},\"bgcolor\":\"rgb(17,17,17)\",\"radialaxis\":{\"gridcolor\":\"#506784\",\"linecolor\":\"#506784\",\"ticks\":\"\"}},\"scene\":{\"xaxis\":{\"backgroundcolor\":\"rgb(17,17,17)\",\"gridcolor\":\"#506784\",\"gridwidth\":2,\"linecolor\":\"#506784\",\"showbackground\":true,\"ticks\":\"\",\"zerolinecolor\":\"#C8D4E3\"},\"yaxis\":{\"backgroundcolor\":\"rgb(17,17,17)\",\"gridcolor\":\"#506784\",\"gridwidth\":2,\"linecolor\":\"#506784\",\"showbackground\":true,\"ticks\":\"\",\"zerolinecolor\":\"#C8D4E3\"},\"zaxis\":{\"backgroundcolor\":\"rgb(17,17,17)\",\"gridcolor\":\"#506784\",\"gridwidth\":2,\"linecolor\":\"#506784\",\"showbackground\":true,\"ticks\":\"\",\"zerolinecolor\":\"#C8D4E3\"}},\"shapedefaults\":{\"line\":{\"color\":\"#f2f5fa\"}},\"sliderdefaults\":{\"bgcolor\":\"#C8D4E3\",\"bordercolor\":\"rgb(17,17,17)\",\"borderwidth\":1,\"tickwidth\":0},\"ternary\":{\"aaxis\":{\"gridcolor\":\"#506784\",\"linecolor\":\"#506784\",\"ticks\":\"\"},\"baxis\":{\"gridcolor\":\"#506784\",\"linecolor\":\"#506784\",\"ticks\":\"\"},\"bgcolor\":\"rgb(17,17,17)\",\"caxis\":{\"gridcolor\":\"#506784\",\"linecolor\":\"#506784\",\"ticks\":\"\"}},\"title\":{\"x\":0.05},\"updatemenudefaults\":{\"bgcolor\":\"#506784\",\"borderwidth\":0},\"xaxis\":{\"automargin\":true,\"gridcolor\":\"#283442\",\"linecolor\":\"#506784\",\"ticks\":\"\",\"title\":{\"standoff\":15},\"zerolinecolor\":\"#283442\",\"zerolinewidth\":2},\"yaxis\":{\"automargin\":true,\"gridcolor\":\"#283442\",\"linecolor\":\"#506784\",\"ticks\":\"\",\"title\":{\"standoff\":15},\"zerolinecolor\":\"#283442\",\"zerolinewidth\":2}}}},                        {\"responsive\": true}                    ).then(function(){\n                            \nvar gd = document.getElementById('6b7fde3f-92b5-4bb2-8145-a4683c67ee88');\nvar x = new MutationObserver(function (mutations, observer) {{\n        var display = window.getComputedStyle(gd).display;\n        if (!display || display === 'none') {{\n            console.log([gd, 'removed!']);\n            Plotly.purge(gd);\n            observer.disconnect();\n        }}\n}});\n\n// Listen for the removal of the full notebook cells\nvar notebookContainer = gd.closest('#notebook-container');\nif (notebookContainer) {{\n    x.observe(notebookContainer, {childList: true});\n}}\n\n// Listen for the clearing of the current output cell\nvar outputEl = gd.closest('.output');\nif (outputEl) {{\n    x.observe(outputEl, {childList: true});\n}}\n\n                        })                };                });            </script>        </div>"
     },
     "metadata": {},
     "output_type": "display_data"
    }
   ],
   "source": [
    "def optimize_results():\n",
    "    study = optuna.load_study(study_name=studyname, storage=\"sqlite:///clustering.db\")\n",
    "    optuna.visualization.plot_slice(study).show()\n",
    "    optuna.visualization.plot_contour(study, params=[\"x\"]).show()\n",
    "    # optuna.visualization.plot_contour(study, params=[\"q\", \"eps\"]).show()\n",
    "    optuna.visualization.plot_param_importances(study).show()\n",
    "    # return study.best_trial.params[\"eps\"], study.best_trial.params[\"q\"]\n",
    "\n",
    "optimization_res = optimize_results()"
   ],
   "metadata": {
    "collapsed": false,
    "pycharm": {
     "name": "#%%\n"
    }
   }
  }
 ],
 "metadata": {
  "kernelspec": {
   "display_name": "Python 3",
   "language": "python",
   "name": "python3"
  },
  "language_info": {
   "codemirror_mode": {
    "name": "ipython",
    "version": 2
   },
   "file_extension": ".py",
   "mimetype": "text/x-python",
   "name": "python",
   "nbconvert_exporter": "python",
   "pygments_lexer": "ipython2",
   "version": "2.7.6"
  }
 },
 "nbformat": 4,
 "nbformat_minor": 0
}