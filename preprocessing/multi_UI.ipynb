{
 "cells": [
  {
   "cell_type": "code",
   "execution_count": 2,
   "metadata": {
    "pycharm": {
     "name": "#%%\n"
    }
   },
   "outputs": [
    {
     "name": "stderr",
     "output_type": "stream",
     "text": [
      "C:\\Users\\Hyperbook\\AppData\\Local\\Temp\\ipykernel_20232\\90699749.py:22: DeprecationWarning: Importing display from IPython.core.display is deprecated since IPython 7.14, please import from IPython display\n",
      "  from IPython.core.display import display, HTML\n"
     ]
    },
    {
     "data": {
      "text/plain": "<IPython.core.display.HTML object>",
      "text/html": "<style>div.output_scroll { height: 60em; }</style>"
     },
     "metadata": {},
     "output_type": "display_data"
    }
   ],
   "source": [
    "import optuna\n",
    "\n",
    "from threading import Thread\n",
    "from datetime import datetime\n",
    "\n",
    "CPU = 16"
   ]
  },
  {
   "cell_type": "code",
   "execution_count": 16,
   "metadata": {
    "pycharm": {
     "name": "#%%\n"
    }
   },
   "outputs": [],
   "source": [
    "def multi_create_study(name=\"ml_clustering\", direction=None, sampler=None):\n",
    "    now = datetime.now()\n",
    "    studyname = name\n",
    "    studyname += now.strftime(\"_%Y-%m-%d_%H%M%S\")\n",
    "    study = optuna.create_study(study_name=studyname, storage=\"sqlite:///clustering.db\", direction=direction, sampler=sampler)\n",
    "    print(\"Created study \" + study.study_name)\n",
    "    return studyname"
   ]
  },
  {
   "cell_type": "code",
   "execution_count": 18,
   "metadata": {
    "pycharm": {
     "name": "#%%\n"
    }
   },
   "outputs": [],
   "source": [
    "def singlethread_optimize(studyname, func, timeout=None):\n",
    "    study = optuna.load_study(study_name=studyname, storage=\"sqlite:///clustering.db\")\n",
    "    study.optimize(func, timeout=timeout)"
   ]
  },
  {
   "cell_type": "code",
   "execution_count": 19,
   "metadata": {
    "pycharm": {
     "name": "#%%\n"
    }
   },
   "outputs": [],
   "source": [
    "def multi_thread_optimize(studyname, func, cpu=CPU):\n",
    "    print(\"Optimization with {} threads.\".format(cpu))\n",
    "\n",
    "    processes = []\n",
    "    for i in range(cpu):\n",
    "        processes.append(Thread(target=singlethread_optimize, args=(studyname, func), name=\"Thread_{}\".format(i)))\n",
    "        processes[-1].start()\n",
    "\n",
    "    for proc in processes:\n",
    "        proc.join()\n",
    "        print(\"{} finished!\".format(proc.name))\n",
    "\n",
    "    print(\"Optimization finished!\")"
   ]
  },
  {
   "cell_type": "code",
   "execution_count": null,
   "outputs": [],
   "source": [
    "def multi_get_study(studyname):\n",
    "    study = optuna.load_study(study_name=studyname, storage=\"sqlite:///clustering.db\")\n",
    "    return study"
   ],
   "metadata": {
    "collapsed": false,
    "pycharm": {
     "name": "#%%\n"
    }
   }
  }
 ],
 "metadata": {
  "colab": {
   "collapsed_sections": [],
   "name": "Clustering.ipynb",
   "provenance": []
  },
  "kernelspec": {
   "display_name": "Python 3 (ipykernel)",
   "language": "python",
   "name": "python3"
  },
  "language_info": {
   "codemirror_mode": {
    "name": "ipython",
    "version": 3
   },
   "file_extension": ".py",
   "mimetype": "text/x-python",
   "name": "python",
   "nbconvert_exporter": "python",
   "pygments_lexer": "ipython3",
   "version": "3.9.12"
  }
 },
 "nbformat": 4,
 "nbformat_minor": 1
}